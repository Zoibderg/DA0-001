{
 "cells": [
  {
   "cell_type": "markdown",
   "id": "3ef257de-9317-4ae9-96fa-e2d3b6d34c29",
   "metadata": {},
   "source": [
    "# Objective 1.3 - Compare and contrast common data structures and file formats."
   ]
  },
  {
   "cell_type": "markdown",
   "id": "b356bd72-613b-4c2c-b329-4d0a4a022551",
   "metadata": {},
   "source": [
    "## Data File Formats"
   ]
  },
  {
   "cell_type": "markdown",
   "id": "8659a8b0-0b73-437f-b772-424167fde6fd",
   "metadata": {},
   "source": [
    "### Text / Flat Files (CSV)"
   ]
  },
  {
   "cell_type": "markdown",
   "id": "05e6653a-78de-4cf9-89b7-6203bc990526",
   "metadata": {
    "tags": []
   },
   "source": [
    "#### Tab Delimited"
   ]
  },
  {
   "cell_type": "markdown",
   "id": "da13e9ef-913f-49c9-b5a3-e05026dfb2a5",
   "metadata": {},
   "source": []
  },
  {
   "cell_type": "code",
   "execution_count": null,
   "id": "6a16ffcd-564f-4eb0-ae74-46e5cd65db56",
   "metadata": {},
   "outputs": [],
   "source": []
  },
  {
   "cell_type": "markdown",
   "id": "5294fcdb-1761-4c0c-b8c0-5091f4e903f0",
   "metadata": {
    "tags": []
   },
   "source": [
    "#### Comma Delimited "
   ]
  },
  {
   "cell_type": "markdown",
   "id": "335127f8-ff1d-4c76-97c8-ac37ef729e5f",
   "metadata": {},
   "source": []
  },
  {
   "cell_type": "code",
   "execution_count": null,
   "id": "9071cfb3-4afb-4908-b588-2d0f4fb4992d",
   "metadata": {},
   "outputs": [],
   "source": []
  },
  {
   "cell_type": "markdown",
   "id": "bb2b52c4-d6dd-4181-8c1b-0d5cc1f44b94",
   "metadata": {},
   "source": [
    "### JavaScript Onject Notation (JSON)"
   ]
  },
  {
   "cell_type": "markdown",
   "id": "a1cb774c-4f22-4daa-b8e6-eeb82806ad61",
   "metadata": {},
   "source": []
  },
  {
   "cell_type": "code",
   "execution_count": null,
   "id": "138f79a8-cd93-44d7-8e9e-4f0873017440",
   "metadata": {},
   "outputs": [],
   "source": []
  },
  {
   "cell_type": "markdown",
   "id": "658d3922-5c68-429e-aca1-130549b407de",
   "metadata": {},
   "source": [
    "### Extensable Markup Language (XML)"
   ]
  },
  {
   "cell_type": "markdown",
   "id": "903d0a55-e524-4418-af5f-8b4c515bf850",
   "metadata": {},
   "source": []
  },
  {
   "cell_type": "code",
   "execution_count": null,
   "id": "7ae694e2-91fe-4584-8ef0-a5cf668f20c1",
   "metadata": {},
   "outputs": [],
   "source": []
  },
  {
   "cell_type": "markdown",
   "id": "4280cc19-ef4d-4770-9b4b-94a9ef38e092",
   "metadata": {},
   "source": [
    "### Hypertext Markup Language (HTML)"
   ]
  },
  {
   "cell_type": "markdown",
   "id": "9ee1319a-75fe-43a7-aae8-868f41deeda6",
   "metadata": {},
   "source": []
  },
  {
   "cell_type": "code",
   "execution_count": null,
   "id": "9537d739-910e-4617-a5ea-c6f477df9677",
   "metadata": {},
   "outputs": [],
   "source": []
  }
 ],
 "metadata": {
  "kernelspec": {
   "display_name": "Python 3 (ipykernel)",
   "language": "python",
   "name": "python3"
  },
  "language_info": {
   "codemirror_mode": {
    "name": "ipython",
    "version": 3
   },
   "file_extension": ".py",
   "mimetype": "text/x-python",
   "name": "python",
   "nbconvert_exporter": "python",
   "pygments_lexer": "ipython3",
   "version": "3.9.12"
  }
 },
 "nbformat": 4,
 "nbformat_minor": 5
}
