{
 "cells": [
  {
   "cell_type": "markdown",
   "id": "3dcbed27-6470-454e-a368-769e87923716",
   "metadata": {},
   "source": [
    "# Objective 1.1 - Identify basic concepts of data schemas and dimensions."
   ]
  },
  {
   "cell_type": "markdown",
   "id": "10e76545-7041-4588-b9bb-0e9543dda052",
   "metadata": {},
   "source": [
    "## Databases"
   ]
  },
  {
   "cell_type": "markdown",
   "id": "95c1c4cc-04f5-49eb-bc90-657ab9af78d0",
   "metadata": {},
   "source": [
    "#### • Relational"
   ]
  },
  {
   "cell_type": "markdown",
   "id": "b866607a-f976-4196-ac2b-603813d62dab",
   "metadata": {},
   "source": [
    "> Relational databases are defined by the used of Primary and Foreign keys to create relationships (links) between tables. <br>\n",
    "\n",
    "| id  | value | \n",
    "| --- | ----- |\n",
    "| 01  | 100   |\n",
    "| 02  | 500   |\n",
    "| 03  | 700   |\n",
    "\n",
    "| tid (links to id) | name | address | phone |\n",
    "| --- | ---- | ------- | ----- |\n",
    "| 01 | Joe | 11 w road | 5555555555 |\n",
    "| 02 | Bob | 12 w street | 666666666|\n",
    "| 03 | Frank | 15 street | 1111111111|"
   ]
  },
  {
   "cell_type": "markdown",
   "id": "a3ba71eb-e1d2-4f5c-b54e-c76230998e49",
   "metadata": {},
   "source": [
    "This allows for very effecent and well structed data bases. From table one we can see that person `01` has a total value of `100`, if we wish to see who person `01` is we simply need to follow the key link to the next table, where in this instance we are provied with said persons' details. "
   ]
  },
  {
   "cell_type": "markdown",
   "id": "e1e286e4-9999-4513-a28c-993e0b39d54e",
   "metadata": {},
   "source": [
    "#### • Non-Relational"
   ]
  },
  {
   "cell_type": "markdown",
   "id": "db2f6437-c022-4417-93d1-5bec3428b4c5",
   "metadata": {},
   "source": [
    "> Non-Relational databases DO NOT use keys to pair tables. Instead all relevent information is stored in one table. A good way to think about this database is to look at the dictionary class.\n",
    "\n",
    "```\n",
    "1001: {\n",
    "'name': 'mark'\n",
    "'surname': 'franklin'\n",
    "'phone': 00-000-0000\n",
    "}\n",
    "```\n",
    "\n",
    "```\n",
    "1002: {\n",
    "'name': 'bob'\n",
    "'surname': 'franklin'\n",
    "'phone': 11-111-1111\n",
    "}\n",
    "```\n",
    "\n",
    "Above we make a new entry for each person and input their information directly into their table. Key / Value pairs are used to define this information. "
   ]
  },
  {
   "cell_type": "markdown",
   "id": "5034fc57-2958-44fd-8acc-a6c52aa3bd21",
   "metadata": {},
   "source": [
    "## Data Mart / Data Warehousing / Data Lake"
   ]
  },
  {
   "cell_type": "markdown",
   "id": "5aafb7c4-76c3-4b2f-a326-bb351e8f5633",
   "metadata": {
    "tags": []
   },
   "source": [
    "#### • Online transactional processing (OLTP)"
   ]
  },
  {
   "cell_type": "markdown",
   "id": "d355677d-f36c-47ff-bd6a-890ec047046b",
   "metadata": {},
   "source": [
    ">The processing of real time transactions that will affect the database.<br>\n",
    "Needs to be quick and efficent.<br>\n",
    "<br>\n",
    "Think of the steps that are processed when making a card transaction.\n",
    "1. Check card balance\n",
    "2. Transfer money (transaction id OR #)\n",
    "3. Update stock\n",
    "4. Update total purchases\n",
    "\n",
    "This entire process happens in the blink of an eye and needs to almost reflect instantly in our database. That way for instance, stock is alway up to date and we don't end up selling a prodcut that we don't have."
   ]
  },
  {
   "cell_type": "markdown",
   "id": "bf84b1b3-7f9d-485e-90af-7fcee2338eeb",
   "metadata": {},
   "source": [
    "#### • Online analytical processing (OLAP)"
   ]
  },
  {
   "cell_type": "markdown",
   "id": "564bb092-97ec-4707-bf72-a14b43c5e45d",
   "metadata": {},
   "source": [
    "In tandam with OLTP, OLAP happens later on in the process to analyze all data collected from OLTP. This will allow us to find insights about our data and create predictions, trends, etc. <br>\n",
    "Key point for OLAP is to get the correct insights for our data. It isn't important that its fast, while that does always help.<br>\n",
    "Consider the following examples:\n",
    "- How much of an item is sold in the current period?\n",
    "- Which items are most popluar?\n",
    "- Do we send certian trends when customers are buying a certian item?"
   ]
  },
  {
   "cell_type": "markdown",
   "id": "0141a81f-f210-4643-8707-ae4b932147d7",
   "metadata": {},
   "source": [
    "## Schema Concepts"
   ]
  },
  {
   "cell_type": "markdown",
   "id": "55fc33b1-050a-4214-8b2d-356bbc586bad",
   "metadata": {},
   "source": [
    "#### • Snowflake"
   ]
  },
  {
   "cell_type": "markdown",
   "id": "d36015d7-dcd9-4252-bc1c-92eae71660ac",
   "metadata": {},
   "source": []
  },
  {
   "cell_type": "markdown",
   "id": "4cc1af73-0683-4943-a74f-d1be90604e5e",
   "metadata": {},
   "source": [
    "#### • Star"
   ]
  },
  {
   "cell_type": "markdown",
   "id": "c958c5fc-0578-40bb-8b45-1397f56a28c0",
   "metadata": {},
   "source": []
  }
 ],
 "metadata": {
  "kernelspec": {
   "display_name": "Python 3 (ipykernel)",
   "language": "python",
   "name": "python3"
  },
  "language_info": {
   "codemirror_mode": {
    "name": "ipython",
    "version": 3
   },
   "file_extension": ".py",
   "mimetype": "text/x-python",
   "name": "python",
   "nbconvert_exporter": "python",
   "pygments_lexer": "ipython3",
   "version": "3.9.12"
  }
 },
 "nbformat": 4,
 "nbformat_minor": 5
}
