{
 "cells": [
  {
   "cell_type": "markdown",
   "id": "3dcbed27-6470-454e-a368-769e87923716",
   "metadata": {},
   "source": [
    "# Objective 1.1 - Identify basic concepts of data schemas and dimensions."
   ]
  },
  {
   "cell_type": "markdown",
   "id": "10e76545-7041-4588-b9bb-0e9543dda052",
   "metadata": {},
   "source": [
    "## Databases"
   ]
  },
  {
   "cell_type": "markdown",
   "id": "95c1c4cc-04f5-49eb-bc90-657ab9af78d0",
   "metadata": {},
   "source": [
    "### • Relational"
   ]
  },
  {
   "cell_type": "markdown",
   "id": "b866607a-f976-4196-ac2b-603813d62dab",
   "metadata": {},
   "source": []
  },
  {
   "cell_type": "code",
   "execution_count": null,
   "id": "77944667-b049-4c64-9fdf-abe713816eb4",
   "metadata": {},
   "outputs": [],
   "source": []
  },
  {
   "cell_type": "markdown",
   "id": "e1e286e4-9999-4513-a28c-993e0b39d54e",
   "metadata": {},
   "source": [
    "### • Non-Relational"
   ]
  },
  {
   "cell_type": "markdown",
   "id": "db2f6437-c022-4417-93d1-5bec3428b4c5",
   "metadata": {},
   "source": []
  },
  {
   "cell_type": "code",
   "execution_count": null,
   "id": "9053ebe8-b003-411b-bcc0-3db69ca34153",
   "metadata": {},
   "outputs": [],
   "source": []
  },
  {
   "cell_type": "markdown",
   "id": "5034fc57-2958-44fd-8acc-a6c52aa3bd21",
   "metadata": {},
   "source": [
    "## Data Mart / Data Warehousing / Data Lake"
   ]
  },
  {
   "cell_type": "markdown",
   "id": "5aafb7c4-76c3-4b2f-a326-bb351e8f5633",
   "metadata": {
    "tags": []
   },
   "source": [
    "### • Online transactional processing (OLTP)"
   ]
  },
  {
   "cell_type": "markdown",
   "id": "d355677d-f36c-47ff-bd6a-890ec047046b",
   "metadata": {},
   "source": []
  },
  {
   "cell_type": "code",
   "execution_count": null,
   "id": "1ddc3b33-f7bd-4946-8bf4-8e440efc979c",
   "metadata": {},
   "outputs": [],
   "source": []
  },
  {
   "cell_type": "markdown",
   "id": "bf84b1b3-7f9d-485e-90af-7fcee2338eeb",
   "metadata": {},
   "source": [
    "### • Online analytical processing (OLAP)"
   ]
  },
  {
   "cell_type": "markdown",
   "id": "564bb092-97ec-4707-bf72-a14b43c5e45d",
   "metadata": {},
   "source": []
  },
  {
   "cell_type": "code",
   "execution_count": null,
   "id": "5ea9e3ce-c535-4683-8611-a24924da075d",
   "metadata": {},
   "outputs": [],
   "source": []
  },
  {
   "cell_type": "markdown",
   "id": "0141a81f-f210-4643-8707-ae4b932147d7",
   "metadata": {},
   "source": [
    "## Schema Concepts"
   ]
  },
  {
   "cell_type": "markdown",
   "id": "55fc33b1-050a-4214-8b2d-356bbc586bad",
   "metadata": {},
   "source": [
    "### • Snowflake"
   ]
  },
  {
   "cell_type": "markdown",
   "id": "d36015d7-dcd9-4252-bc1c-92eae71660ac",
   "metadata": {},
   "source": []
  },
  {
   "cell_type": "code",
   "execution_count": null,
   "id": "de12fb9b-7f99-4c30-af5c-a7d5d590360c",
   "metadata": {},
   "outputs": [],
   "source": []
  },
  {
   "cell_type": "markdown",
   "id": "4cc1af73-0683-4943-a74f-d1be90604e5e",
   "metadata": {},
   "source": [
    "### • Star"
   ]
  },
  {
   "cell_type": "markdown",
   "id": "c958c5fc-0578-40bb-8b45-1397f56a28c0",
   "metadata": {},
   "source": []
  },
  {
   "cell_type": "code",
   "execution_count": null,
   "id": "d030f058-2932-40c4-84c2-ee01441fc661",
   "metadata": {},
   "outputs": [],
   "source": []
  }
 ],
 "metadata": {
  "kernelspec": {
   "display_name": "Python 3 (ipykernel)",
   "language": "python",
   "name": "python3"
  },
  "language_info": {
   "codemirror_mode": {
    "name": "ipython",
    "version": 3
   },
   "file_extension": ".py",
   "mimetype": "text/x-python",
   "name": "python",
   "nbconvert_exporter": "python",
   "pygments_lexer": "ipython3",
   "version": "3.9.12"
  }
 },
 "nbformat": 4,
 "nbformat_minor": 5
}
