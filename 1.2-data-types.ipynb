{
 "cells": [
  {
   "cell_type": "markdown",
   "id": "89fc0f2f-a4b8-4847-b6d2-d35a13fcd800",
   "metadata": {},
   "source": [
    "# Objective 1.2 - Compare and contrast different data types."
   ]
  },
  {
   "cell_type": "markdown",
   "id": "6514d578-4691-4d56-bf6c-9c5b177fd805",
   "metadata": {},
   "source": [
    "## • Date"
   ]
  },
  {
   "cell_type": "markdown",
   "id": "bf5ac9d2-e402-4d16-a83a-0aba00a99f41",
   "metadata": {},
   "source": [
    "Everything is aggergated to a single point, for dates that point is; 1970 January 1 <br>\n",
    "All dates are calucalated from this day. "
   ]
  },
  {
   "cell_type": "code",
   "execution_count": 5,
   "id": "11e05955-f1e3-4a3d-b7fc-25a478930a54",
   "metadata": {
    "tags": []
   },
   "outputs": [
    {
     "data": {
      "text/plain": [
       "24.0"
      ]
     },
     "execution_count": 5,
     "metadata": {},
     "output_type": "execute_result"
    }
   ],
   "source": [
    "from datetime import datetime\n",
    "\n",
    "a = datetime.strptime(\"30/01/1999\", '%d/%m/%Y')\n",
    "b = datetime.strptime(\"31/01/1999\", '%d/%m/%Y')\n",
    "\n",
    "result = int(b.timestamp()) - int(a.timestamp())\n",
    "\n",
    "timestampexamp = int(a.timestamp())  # this is the distance from this day to 1970 January 1, in seconds\n",
    "result / 60 / 60  # validate that the distance between to days is 24 hours. (convert ss - mm - hh)"
   ]
  },
  {
   "cell_type": "markdown",
   "id": "3f31ee2c-2fbf-4d6d-87e1-e55b641b601c",
   "metadata": {},
   "source": [
    "### Date formats\n",
    "You have to specify the date format for your data base. This tells it how to read in the date. \n",
    "\n",
    "| Date                 | Format             |\n",
    "| -------------------- | ------------------ |\n",
    "| 03-01-2021           | dd-mm-yy           |\n",
    "| 01-03-2021           | mm-dd-yy           |\n",
    "| 01/03/2021           | mm/dd/yy           |\n",
    "| 03-01-2021 22:30:25  | dd-mm-yy hh:mm:ss  |\n"
   ]
  },
  {
   "cell_type": "markdown",
   "id": "d3d878f2-667f-4a5b-ade6-239fc04a7063",
   "metadata": {},
   "source": [
    "## • Numeric "
   ]
  },
  {
   "cell_type": "markdown",
   "id": "0b649de4-c861-4be8-b19d-ae67ae1e95d9",
   "metadata": {},
   "source": [
    "#### Alphanumeric\n",
    "- Consisting of, or limited to, letters and/or numbers, especially the characters A to Z (lowercase and uppercase) and 0 to 9."
   ]
  },
  {
   "cell_type": "markdown",
   "id": "8f25ef95-3f2f-4709-8ea1-4aebf3521e3c",
   "metadata": {},
   "source": [
    "### Threre are two types of numerical data types; Exact Types & Approximate Types. As the names of these types entail, they both provied us with very different approaches to integers as a data type."
   ]
  },
  {
   "cell_type": "markdown",
   "id": "a28d12ce-b3ee-4e41-95b6-59c12c311559",
   "metadata": {},
   "source": [
    "### Exact Types\n",
    "The exact type of numaric data types are very very common, often know as the integer and is used for storing whole nubmers in our database. <br>\n",
    "<br>\n",
    "However, there are some limitaions to the range of numbers that we can store.<br>\n",
    "`FROM -2,147,483,647 TO 2,147,482,647` (defined my the type integer)"
   ]
  },
  {
   "cell_type": "markdown",
   "id": "4832775d-c676-4e03-be7d-f2ce6fa9d39c",
   "metadata": {},
   "source": [
    "#### So why is there a limit to the size of integer that we can store?\n",
    "As always when it comes to databases, programing and coding in general .. MEMORY! We ALWAYS want to be saving as much memeory as possible.<br>\n",
    "For example, when storing the number `1` we wouldn't want to consume the same amout of memeory as say the number `10000000000`. <br>\n",
    "To achive this we break down integers in to several different catagories.\n",
    "- TINYint\n",
    "- SMALLint\n",
    "- BIGint"
   ]
  },
  {
   "cell_type": "markdown",
   "id": "947ac5a7-1e28-4051-b9c4-252a8df1c8d1",
   "metadata": {},
   "source": [
    "We will see below that it becomes important to pay attention to the range that our integers may fall in before defining our type. As selecting the approprate type could help us save up to 3 bytes of memory. "
   ]
  },
  {
   "cell_type": "markdown",
   "id": "de12dfc8-249e-41e9-bfa8-dbb5214736a4",
   "metadata": {},
   "source": [
    "#### int (Integer)\n",
    "- `FROM -2,147,483,647 TO 2,147,482,647`\n",
    "- allocates 4 bytes of memory\n",
    "\n",
    "The range for the standard int is HUGE! We clearly will only want to use the intger if we have to, as exploring our other options could save us up three bytes of memory!"
   ]
  },
  {
   "cell_type": "markdown",
   "id": "2337efbf-2475-41b5-82ce-c020e494a9f8",
   "metadata": {},
   "source": [
    "#### TINYint\n",
    "- `FROM 0 TO 255`\n",
    "- allocates 1 byte of memeory\n",
    "\n",
    "The range for tiny int is very small! This data typle would be very useful for storing peoples ages for example, as we can pretty confidently say that these integers would fall within that range."
   ]
  },
  {
   "cell_type": "markdown",
   "id": "8a7c5e13-a17e-45f3-b4fd-1d8337fc4c59",
   "metadata": {},
   "source": [
    "#### SMALLint\n",
    "- `FROM -32,768 TO 32,768`\n",
    "- allocates 2 bytes of memory\n",
    "\n",
    "This range for small values give us many options for our integers and a good range to work with, again so we can save those precious bytes of memory."
   ]
  },
  {
   "cell_type": "markdown",
   "id": "b9d7911e-8ae7-4940-a2c7-9817a1cc17a9",
   "metadata": {},
   "source": [
    "#### BIGint\n",
    "- `FROM -9,223,372,036,854,775,807 TO 9,223,372,036,854,775,807` OR $-(2^{63} -1)$ to $(2^{63} -1)$ \n",
    "- allocates 8 bytes of memeory\n",
    "- this is the biggest whole number that can be store without approximation.\n",
    "\n",
    "BIGint give us a huge range to work with, the trade off being that a BIGint takes up a whole 8 bytes of space! This will allow us, if needed, to store extreamly large numbers to their exact value."
   ]
  },
  {
   "cell_type": "markdown",
   "id": "da754bd1-cdec-4a87-9a60-6d57a2eb4b2c",
   "metadata": {},
   "source": [
    "#### Decimal/Numeric(Floating Point Numbers)\n",
    "- Takes 2 arguements; Percision & Scale\n",
    "    - Percision - number of significant values (maximum value of 32)\n",
    "        - This is the most amout of siginificant values that we can EXACTY store before approximation.\n",
    "    - Scale - number of digits after floating point"
   ]
  },
  {
   "cell_type": "markdown",
   "id": "79020eb1-d863-4238-9e26-fd0bfc6c774d",
   "metadata": {},
   "source": [
    "#### Money\n",
    "- Just as Decimal/Numeric, takes 2 arguments; Percision & Scale\n",
    "    - The difference here is that the computer treats it as a FIXED floating point number."
   ]
  },
  {
   "cell_type": "markdown",
   "id": "e69a0be8-9584-4abd-9513-4db3bfafc6ec",
   "metadata": {},
   "source": [
    "#### Defining Money vs Decimal\n",
    "Say we input the number `10`. If this number is being treated as a money data type. The zero will reamin in this integer no matter what, as with money, this zero is important.<br>\n",
    "However if this nubmer is treated as a decimal, depending on the SQL server, this zero may be truncated and we could recive the number `1`."
   ]
  },
  {
   "cell_type": "markdown",
   "id": "1c4ff679-4ee5-4a7e-97bc-4cbae099002a",
   "metadata": {},
   "source": [
    "### Approximate Types"
   ]
  },
  {
   "cell_type": "markdown",
   "id": "1e0a4fa8-7388-47c4-84df-13191774a3c5",
   "metadata": {},
   "source": [
    "#### Double Percision / Float(n)\n",
    "- n = number of digits after floating point (1 - 14)\n",
    "- While in some cases this can help us save memory, the approximation makes this an unreliable data type."
   ]
  },
  {
   "cell_type": "markdown",
   "id": "c88d1a2b-a1a0-471b-b84f-5b8b01f243c1",
   "metadata": {},
   "source": [
    "##### Consider the following:\n",
    "Say we a looking at the integer `1.100001` <br>\n",
    "Later after save it, say we wish to access it again for a calcuation, the issues arises because instaed of returning the exact value or SQL server may truncate our number and reture something like `1.1`"
   ]
  },
  {
   "cell_type": "markdown",
   "id": "783afc8f-ea76-4aa6-8f99-2013aaf9e4c5",
   "metadata": {},
   "source": [
    "#### Small Float / Real\n",
    "- Numer of siginifiant digits is approximatly 9\n",
    "\n",
    "Why approximatley? Well there is quite a lot going under the hood when our computer makes approximations, depending on our OS, different approximations to numbers may be implied. <br>\n",
    "<br>\n",
    "Again there is a lot going on under the hood here and it is not extreamly important to understand exactly what is happend, we just need to know that approximations are being made and we should avoid them whenever possible. You shold only use exact types for currencies."
   ]
  },
  {
   "cell_type": "markdown",
   "id": "0762361f-60f1-456e-9717-ec635162593f",
   "metadata": {},
   "source": [
    "## • Discrete & Continuous Values"
   ]
  },
  {
   "cell_type": "markdown",
   "id": "54a20b2b-c58f-40da-be59-a628ca04127b",
   "metadata": {},
   "source": [
    "While not import for understandig these concepts, keep note that these are mathmatical terms often used in probability theroy and are two big catagories of the Distribution of Numbers."
   ]
  },
  {
   "cell_type": "markdown",
   "id": "7575ee96-c35a-49bb-8c59-924b6e7e70cc",
   "metadata": {},
   "source": [
    "#### Discrete Values\n",
    "- Finite OR Countable Infinite\n",
    "- Clear spaces between values.\n",
    "\n",
    "When thinking of descrete values, think of a rolling a die. It has 6 sides, which is a finite number. We also know that the total on each side of the die is incresced by one, a clear space between our values. \n",
    "\n",
    "| Rolling a Die | |\n",
    "| ----- | ----- |\n",
    "| 1     | 1/6   |\n",
    "| 2     | 1/6   |\n",
    "| 3     | 1/6   |\n",
    "| 4     | 1/6   |\n",
    "| 5     | 1/6   |\n",
    "| 6     | 1/6   |\n",
    "\n",
    "In the same aspect, when we think of countable infinity, we could roll more than one dice, say incresing the amount we roll by one each time. While this sequence may go on forever, it is countable and there are still clear spaces between all our values.\n",
    "\n",
    "| Infinite Dice | | \n",
    "| --- | --- |\n",
    "| 1 | 1 |\n",
    "| 1 | 2 |\n",
    "| 1 | 3 |\n",
    "| etc. | etc. |\n"
   ]
  },
  {
   "cell_type": "markdown",
   "id": "81c4a59d-6433-4b29-80f2-6214253453c0",
   "metadata": {},
   "source": [
    "#### Continous Values\n",
    "- Infinite values between any two values\n",
    "\n",
    "For instance, take the number 1 and 3, while we can say that there is a clear distance between them, we cannot if we are dealing with continous values. Think of countinous values as decimal points, when doing so, there could be an infinite number of values between 1 and 3.\n",
    "```\n",
    "1.0\n",
    "1.1\n",
    "1.12\n",
    "1.123\n",
    "etc.\n",
    "```\n",
    "You can also think of continous values as the x and y axies on a graph. Take for instance the x axis; you could have: <br>\n",
    "`1 -> 2 -> 3` <br>\n",
    "but between any of those points, an infinte number of points could be plotted <br>\n",
    "`1.1, 1.1234, 2.5, 2.7564, etc.`"
   ]
  },
  {
   "cell_type": "markdown",
   "id": "d20aecb3-7037-48a9-9f64-a4882ef18911",
   "metadata": {},
   "source": [
    "## • Text "
   ]
  },
  {
   "cell_type": "markdown",
   "id": "a150490e-d5db-4a56-a71b-a04773ddb6b1",
   "metadata": {},
   "source": [
    "- Theoritical Limit = 2 GEGABYTES ( thats a massive amount!)\n",
    "\n",
    "Text is converted into numbers by our computer using the ASCII table. Each symbol in a text file is converted into nubmers and that is then converted into binary and stored in our computers for later access. "
   ]
  },
  {
   "cell_type": "markdown",
   "id": "8bec57a3-7cc1-4dc4-8b2c-cb8cf51b486d",
   "metadata": {},
   "source": [
    "## • Images"
   ]
  },
  {
   "cell_type": "markdown",
   "id": "21b283cb-03c6-4fdc-b57f-eaf1b98ed0c8",
   "metadata": {},
   "source": [
    "Each image consistes of pixels and each pixel displays a color, when we combine thousands or even millions of pixels we get an image! Pixels are coded using the RGB color chart. (255, 255, 255) Each value spesicifing how much red, green, or blue light to display. This give us the abality to make any color we desire. That RBG value is then converted mainly into a HEXADECIMAL (#54DF62) that is then converted into binary and stored on our computer. <br>\n",
    "This process is done for each and very pixel and, especially if the image is high resolution, can add up very quickly. This can result in the large file sizes that we can see with images. "
   ]
  },
  {
   "cell_type": "markdown",
   "id": "64f50e1d-a326-491d-b865-c731e1c84738",
   "metadata": {},
   "source": [
    "## • Audio"
   ]
  },
  {
   "cell_type": "markdown",
   "id": "efef9870-ae7d-4589-a447-f21a6ccac200",
   "metadata": {},
   "source": [
    "Just has our other data types, audio files are converted into numbers and in the end are represented by and long string of binary numbers, as you can imigine this can eventually get very big. The process is extreamly complicated when it comes to converting audio and is far beyond our need of understanding. We just need to know that, in the end, and audio sample is converted in to one very large number and this nubmer can take up a lot of space!"
   ]
  },
  {
   "cell_type": "markdown",
   "id": "d2971860-41f8-402c-a16a-69a29f2373d6",
   "metadata": {},
   "source": [
    "## • Video"
   ]
  },
  {
   "cell_type": "markdown",
   "id": "208fda34-bc7f-4f58-87f4-6ab5902d0745",
   "metadata": {},
   "source": [
    "The combonation of the 2 above data types, video combines images and audio in a seamless experince. Every pixel of every frame is stored as well as the audio for every moment. As you can imagine, this quickly takes of a massive amount of space."
   ]
  },
  {
   "cell_type": "markdown",
   "id": "b9562770-30e9-426e-b0a4-411f67eaced2",
   "metadata": {
    "tags": []
   },
   "source": [
    "## • Categorical OR Dimensional"
   ]
  },
  {
   "cell_type": "markdown",
   "id": "76b5451f-07d4-481a-9887-cb5c486d7191",
   "metadata": {},
   "source": [
    "Machine learning algorithms cannot work directly with categorical data and you do need to do some amount of engineering and transformations on this data before you can start modeling on your data. <br>\n",
    "Typically, any data attribute which is categorical in nature represents discrete values which belong to a specific finite set of categories or classes. These are also often known as classes or labels in the context of attributes or variables which are to be predicted by a model. <br>\n",
    "These discrete values can be text or numeric in nature (or even unstructured data like images!). There are two major classes of categorical data, nominal and ordinal."
   ]
  },
  {
   "cell_type": "markdown",
   "id": "12fd8208-1603-486c-9387-2d21a86aeb89",
   "metadata": {
    "tags": []
   },
   "source": [
    "#### Nominal Data"
   ]
  },
  {
   "cell_type": "markdown",
   "id": "2ba0d99c-ccfa-468a-8936-2765d77afbb8",
   "metadata": {},
   "source": [
    "- No concept of ordering amongst the values of that attribute.\n",
    "\n",
    "Consider a simple example of weather categories. We have six major classes or categories in this particular scenario without any concept or notion of order (windy doesn’t always occur before sunny nor is it smaller or bigger than sunny). <br>\n",
    "Similarly movie, music and video game genres, country names, food and cuisine types are other examples of nominal categorical attributes."
   ]
  },
  {
   "cell_type": "markdown",
   "id": "7faead8e-8544-4248-ac4f-d11367b2d321",
   "metadata": {},
   "source": [
    "#### Ordinal Data"
   ]
  },
  {
   "cell_type": "markdown",
   "id": "819c539b-e9c2-431e-bd6b-bc8e2ce44ae5",
   "metadata": {},
   "source": [
    "- Have some sense or notion of order amongst its values.\n",
    "\n",
    "For instance take shirt sizes. It is quite evident that order or in this case ‘size’ matters when thinking about shirts (S is smaller than M which is smaller than L and so on). <br>\n",
    "Shoe sizes, education level and employment roles are some other examples of ordinal categorical attributes."
   ]
  },
  {
   "cell_type": "code",
   "execution_count": null,
   "id": "2646cb79-5a24-4cf3-adb8-f9f84c784bb1",
   "metadata": {},
   "outputs": [],
   "source": []
  },
  {
   "cell_type": "code",
   "execution_count": null,
   "id": "3dd8f54a-b6f0-4648-9a01-6baf6b7bed62",
   "metadata": {},
   "outputs": [],
   "source": []
  }
 ],
 "metadata": {
  "kernelspec": {
   "display_name": "Python 3 (ipykernel)",
   "language": "python",
   "name": "python3"
  },
  "language_info": {
   "codemirror_mode": {
    "name": "ipython",
    "version": 3
   },
   "file_extension": ".py",
   "mimetype": "text/x-python",
   "name": "python",
   "nbconvert_exporter": "python",
   "pygments_lexer": "ipython3",
   "version": "3.9.12"
  }
 },
 "nbformat": 4,
 "nbformat_minor": 5
}
