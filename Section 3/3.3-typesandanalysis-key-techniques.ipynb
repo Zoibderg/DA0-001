{
 "cells": [
  {
   "cell_type": "markdown",
   "id": "dcc89daf-49bb-4569-a0b3-7c953e629d40",
   "metadata": {},
   "source": [
    "# 3.3 - Summarize types of analysis and key analysis techniques."
   ]
  },
  {
   "cell_type": "markdown",
   "id": "cb2bd925-695c-41e5-82fe-edbd94a58df6",
   "metadata": {},
   "source": [
    "## Process to determine type of analysis"
   ]
  },
  {
   "cell_type": "markdown",
   "id": "55b519a6-2dd7-4155-b647-4b4ecbe7b08d",
   "metadata": {},
   "source": [
    "### Review/refine business questions"
   ]
  },
  {
   "cell_type": "markdown",
   "id": "73cf6b26-3e50-4298-b12b-b11cf6b09c32",
   "metadata": {},
   "source": [
    "### Determine data needs and sources to perfrom analysis"
   ]
  },
  {
   "cell_type": "markdown",
   "id": "5b15105c-42d0-47ad-9019-991829fd9a24",
   "metadata": {},
   "source": [
    "### Scoping/gap analysis"
   ]
  },
  {
   "cell_type": "markdown",
   "id": "55244ac2-a75c-4368-937a-276f2817539d",
   "metadata": {},
   "source": [
    "## Types of analysis"
   ]
  },
  {
   "cell_type": "markdown",
   "id": "c35269e6-719e-4888-a5cb-64a5e36264e6",
   "metadata": {},
   "source": [
    "### Trend analysis\n",
    "- Comparison of data over time"
   ]
  },
  {
   "cell_type": "markdown",
   "id": "c5fa97c8-80c2-4f92-a5ad-e997382cd6a5",
   "metadata": {},
   "source": [
    "### Performance analysis\n",
    "- Tracking measurements against defined goals\n",
    "- Basic projections to achieve goals"
   ]
  },
  {
   "cell_type": "markdown",
   "id": "001c6301-cf26-4382-9308-1a72d02e5e6a",
   "metadata": {},
   "source": [
    "### Exploratory data analysis\n",
    "- Use of descriptiabe statistics to determine observations"
   ]
  },
  {
   "cell_type": "markdown",
   "id": "5fe71dcd-352f-4c8c-b699-bd698ad7b9cd",
   "metadata": {},
   "source": [
    "### Link analysis\n",
    "- Connection of data points or pathway"
   ]
  },
  {
   "cell_type": "code",
   "execution_count": null,
   "id": "e3fa4e8c-644b-41aa-b9f7-639535a65704",
   "metadata": {},
   "outputs": [],
   "source": []
  }
 ],
 "metadata": {
  "kernelspec": {
   "display_name": "Python 3 (ipykernel)",
   "language": "python",
   "name": "python3"
  },
  "language_info": {
   "codemirror_mode": {
    "name": "ipython",
    "version": 3
   },
   "file_extension": ".py",
   "mimetype": "text/x-python",
   "name": "python",
   "nbconvert_exporter": "python",
   "pygments_lexer": "ipython3",
   "version": "3.9.12"
  }
 },
 "nbformat": 4,
 "nbformat_minor": 5
}
