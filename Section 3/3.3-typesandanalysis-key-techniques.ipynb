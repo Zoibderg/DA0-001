{
 "cells": [
  {
   "cell_type": "markdown",
   "id": "dcc89daf-49bb-4569-a0b3-7c953e629d40",
   "metadata": {},
   "source": [
    "# 3.3 - Summarize types of analysis and key analysis techniques."
   ]
  },
  {
   "cell_type": "markdown",
   "id": "cb2bd925-695c-41e5-82fe-edbd94a58df6",
   "metadata": {},
   "source": [
    "## Process to determine type of analysis"
   ]
  },
  {
   "cell_type": "markdown",
   "id": "55b519a6-2dd7-4155-b647-4b4ecbe7b08d",
   "metadata": {},
   "source": [
    "### Review/refine business questions\n",
    "\n",
    "1. What exactly do you want to find out?\n",
    "2. What standard KPIs will you use that can help?\n",
    "3. What statistical analysis techniques do you want to apply?\n",
    "4. What ETL/ELT procedures need to be developed (if any)?\n",
    "5. Who are the final users of your analysis results?"
   ]
  },
  {
   "cell_type": "markdown",
   "id": "73cf6b26-3e50-4298-b12b-b11cf6b09c32",
   "metadata": {},
   "source": [
    "### Determine data needs and sources to perfrom analysis\n",
    "\n",
    "1. Where will you data come from?\n",
    "2. Which scales apply to your different datasets?\n",
    "    - You’ll want to be mindful of the level of measurement for your different variables, as this will affect the statistical techniques you will be able to apply in your analysis.\n",
    "    - There are basically 4 types of scales:\n",
    "        - Nominal\n",
    "            - you organixze your data in non-numeric categories that cannot be ranked or compared quantitatively.\n",
    "        - Ordinal\n",
    "            - thnk of movie ratings form 0 to 5 stars\n",
    "        - Interval\n",
    "            - in this type of scale, data is grouped into categories with order and equal distance between these categories\n",
    "        - Ratio\n",
    "            - has the fetures of all the earlier scales\n"
   ]
  },
  {
   "cell_type": "markdown",
   "id": "5b15105c-42d0-47ad-9019-991829fd9a24",
   "metadata": {},
   "source": [
    "### Scoping/gap analysis\n",
    "\n",
    "A process that allows organizations to determine how to best achieve their business goals. It compares the current state with an ideal state or goals, which highlights shortcomings and opportunities for improvement.\n",
    "\n",
    "1. Analyze your current state\n",
    "    - You’ll need to choose which area of your business you want to focus on and start with your current state. You need to discover where your organization currently is before you can make a plan for reaching your goals. \n",
    "2. Identify the ideal future state\n",
    "    - Where would you like to be? What’s not happening that should be? Don’t worry yet about how you’ll get there. That’s the next step. Right now, the sky’s the limit, and you should dream big.\n",
    "3. Find the gap and evaluate solutions\n",
    "    - A helpful gap analysis tool would be a decision tree as it calculates costs and benefits based on conditional probability.\n",
    "    - In the end, how you bridge the gap will depend on your organizational and team priorities. Work together to find what works best. \n",
    "4. Create and implement a plan to bridge the gap\n",
    "    - The changes that you’ll implement may also affect other teams and department, so it’s important to come up with a plan. \n",
    "    - Establish a clear strategy and actionable objectives to help you actualize your transition and get everyone on board. \n",
    "    \n",
    "#### Gap analysis tools\n",
    "\n",
    "**SWOT analysis**\n",
    "\n",
    "SWOT stands for strengths, weaknesses, opportunities, and threats. You can perform a SWOT analysis both quantitatively and qualitatively. This process will help you determine internal and external threats to your organization and see where and how you stand out against the competition.\n",
    "\n",
    "![SWOT Analysis](SWOT.png)\n",
    "    \n",
    "**Fishbone diagram**\n",
    "\n",
    "Named for their distinctive shape, fishbone diagrams (also known as Ishikawa, cause-and-effect, or herringbone diagrams) explore the possible causes of a root problem. This type of diagram would be especially valuable when examining your current situation.\n",
    "\n",
    "The most commonly used categories for investigation are: \n",
    "\n",
    "- Measurements\n",
    "- Materials\n",
    "- People\n",
    "- Machines\n",
    "- Methods\n",
    "- Enviroment\n",
    "\n",
    "![Fishbone Analysis](fishbone.png)\n",
    "\n",
    "There are many more tools for performing gap analysis, these are just to give us an idea of the process. Do be sure to look further into this if you need more methods to approach gap analysis. "
   ]
  },
  {
   "cell_type": "markdown",
   "id": "55244ac2-a75c-4368-937a-276f2817539d",
   "metadata": {},
   "source": [
    "## Types of analysis"
   ]
  },
  {
   "cell_type": "markdown",
   "id": "c35269e6-719e-4888-a5cb-64a5e36264e6",
   "metadata": {},
   "source": [
    "### Trend analysis\n",
    "- Comparison of data over time"
   ]
  },
  {
   "cell_type": "markdown",
   "id": "c5fa97c8-80c2-4f92-a5ad-e997382cd6a5",
   "metadata": {},
   "source": [
    "### Performance analysis\n",
    "- Tracking measurements against defined goals\n",
    "- Basic projections to achieve goals"
   ]
  },
  {
   "cell_type": "markdown",
   "id": "001c6301-cf26-4382-9308-1a72d02e5e6a",
   "metadata": {},
   "source": [
    "### Exploratory data analysis\n",
    "- Use of descriptiabe statistics to determine observations"
   ]
  },
  {
   "cell_type": "markdown",
   "id": "5fe71dcd-352f-4c8c-b699-bd698ad7b9cd",
   "metadata": {},
   "source": [
    "### Link analysis\n",
    "- Connection of data points or pathway"
   ]
  },
  {
   "cell_type": "code",
   "execution_count": null,
   "id": "e3fa4e8c-644b-41aa-b9f7-639535a65704",
   "metadata": {},
   "outputs": [],
   "source": []
  }
 ],
 "metadata": {
  "kernelspec": {
   "display_name": "Python 3 (ipykernel)",
   "language": "python",
   "name": "python3"
  },
  "language_info": {
   "codemirror_mode": {
    "name": "ipython",
    "version": 3
   },
   "file_extension": ".py",
   "mimetype": "text/x-python",
   "name": "python",
   "nbconvert_exporter": "python",
   "pygments_lexer": "ipython3",
   "version": "3.9.12"
  }
 },
 "nbformat": 4,
 "nbformat_minor": 5
}
