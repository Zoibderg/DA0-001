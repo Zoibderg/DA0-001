{
 "cells": [
  {
   "cell_type": "markdown",
   "id": "63b854a4-4697-4f09-9aa0-88734ae16fdd",
   "metadata": {},
   "source": [
    "# 3.2 - Explain the purpose of inferential statistical methods."
   ]
  },
  {
   "cell_type": "markdown",
   "id": "1b60bff2-ff57-4844-a8d4-ec4efac55380",
   "metadata": {
    "tags": []
   },
   "source": [
    "## Hypothesis Testing"
   ]
  },
  {
   "cell_type": "markdown",
   "id": "77a17f6c-ab4f-457a-8238-e7d8fda3599d",
   "metadata": {},
   "source": [
    "$H_0$ : Reject our assumption\n",
    "\n",
    "$H_1$ : Accept our assumption"
   ]
  },
  {
   "cell_type": "markdown",
   "id": "92c59f9a-c70a-44ff-abe6-b220ee8519dc",
   "metadata": {},
   "source": [
    "## t-value/t-test/t-score"
   ]
  },
  {
   "cell_type": "markdown",
   "id": "1e5707e4-c40d-4ff8-8165-8f77b404ceeb",
   "metadata": {},
   "source": [
    "**Assumption**: Our two different groups differ by their mean. \n",
    "\n",
    "$H_0$ : Means of two groups are equal\n",
    "\n",
    "$H_1$ : Means of two groups are not equal\n",
    "\n",
    "**ONE-TAIL VS TWO-TAILS**\n",
    "\n",
    "- ONE-TAIL\n",
    "    - One population mean is greater/less than the other (direction of difference is important)\n",
    "- TWO-TAIL\n",
    "    - One population mean is different from the other (direction of difference is not important)\n",
    "    \n",
    "**Calculating t-value**\n",
    "\n",
    "$t = \\frac{\\overline{x}_1 - \\overline{x}_2}{\\sqrt{(SE(\\frac{1}{n_1} + \\frac{1}{n_2}))}}$\n",
    "\n",
    "SE - Standard Error: Estimate of the SD for the selected sample. Basic idea is that we take the SD for just a sample of the whole population to give us and \"estimated SD\". The real complexites of this dive deep into probabality theory and don't need to be deeply understood. Just know the basic idea and what is happening. \n",
    "\n",
    "This calcuation will provied us with the t-score of our population, which we will then need to compare with the t Table. This will tell us how probabal it is that our hypthosis will be accepted. \n",
    "\n",
    "![t-table](t-table.png)"
   ]
  },
  {
   "cell_type": "markdown",
   "id": "3973c0a0-7f9a-42ba-95dd-d88eb0c330f2",
   "metadata": {},
   "source": [
    "## z-value/z-test/z-score"
   ]
  },
  {
   "cell_type": "markdown",
   "id": "650be393-d661-4aea-81bd-affa524bf362",
   "metadata": {},
   "source": [
    "$H_0$ : Means of teow groups are equal\n",
    "\n",
    "$H_1$ : Means of two groups are not equal\n",
    "\n",
    "**When to use z-test**\n",
    "- $n(sample size) > 30$\n",
    "- SD is known\n",
    "\n",
    "**ONE-TAIL VS TWO-TAILS**\n",
    "\n",
    "- ONE-TAIL\n",
    "    - One population mean is greater/less than the other (direction of difference is important)\n",
    "- TWO-TAIL\n",
    "    - One population mean is different from the other (direction of difference is not important)\n",
    "    \n",
    "**Calcuating z-value**\n",
    "\n",
    "ONE-TAILED Z-TEST:\n",
    "\n",
    "$z = \\frac{\\overline{x} - \\mu}{\\frac{\\sigma}{\\sqrt{n}}}$\n",
    "\n",
    "TWO-TAILED Z-TEST:\n",
    "\n",
    "$z = \\frac{(\\overline{x_1} - \\overline{x_2}) - (\\mu_1 - \\mu_2)}{\\sqrt{\\frac{\\sigma^2_1}{n_1} + \\frac{\\sigma^2_2}{n_2}}}$\n",
    "\n",
    "You then will compare you z-score to the table which will tell you if you can cofidently accept your hypothsis. \n",
    "\n",
    "![z-table](z-table.png)"
   ]
  },
  {
   "cell_type": "markdown",
   "id": "cce3aec5-2fa0-401e-af73-0eb251f152b6",
   "metadata": {},
   "source": [
    "## p-values"
   ]
  },
  {
   "cell_type": "markdown",
   "id": "64fb1a52-a8d0-41a0-9772-2afd77969137",
   "metadata": {},
   "source": [
    "The probabality that the null hypothsis will be accepted. Any software that you use will provied you with the p-value for your dataset. After runing a test we can look at the p-value to see if your reslts are signifcant.\n",
    "\n",
    "- $P < 0.05$\n",
    "    - Test results are signifcant\n",
    "- $P \\ge 0.05$\n",
    "    - Test results are not signifcant"
   ]
  },
  {
   "cell_type": "code",
   "execution_count": null,
   "id": "ac122eab-8246-41e5-8c77-9a05e839e868",
   "metadata": {},
   "outputs": [],
   "source": []
  },
  {
   "cell_type": "markdown",
   "id": "3f69bf81-5eca-4d80-b322-38a38d56b852",
   "metadata": {},
   "source": [
    "## Chi-squared"
   ]
  },
  {
   "cell_type": "code",
   "execution_count": null,
   "id": "9ee3c3d5-3f14-47d4-9265-abe38f8482b5",
   "metadata": {},
   "outputs": [],
   "source": []
  },
  {
   "cell_type": "code",
   "execution_count": null,
   "id": "7605f28d-74f7-4248-a2ef-6c7f6ac1c23a",
   "metadata": {},
   "outputs": [],
   "source": []
  },
  {
   "cell_type": "markdown",
   "id": "f63d9a84-5b7c-4851-bf75-a690d7a56765",
   "metadata": {},
   "source": [
    "## Linear Regression"
   ]
  },
  {
   "cell_type": "code",
   "execution_count": null,
   "id": "f03a8e98-6f32-46ff-8db9-cff3272827a4",
   "metadata": {},
   "outputs": [],
   "source": []
  },
  {
   "cell_type": "code",
   "execution_count": null,
   "id": "4182086e-7a7c-4e53-8c41-3e9966c3571e",
   "metadata": {},
   "outputs": [],
   "source": []
  },
  {
   "cell_type": "markdown",
   "id": "f779c352-b375-4c79-9a13-fe42c970fc1c",
   "metadata": {},
   "source": [
    "## Correlation"
   ]
  },
  {
   "cell_type": "code",
   "execution_count": null,
   "id": "09a7e37b-fab3-42d2-94ee-e30e7f041cb2",
   "metadata": {},
   "outputs": [],
   "source": []
  },
  {
   "cell_type": "code",
   "execution_count": null,
   "id": "52eb7c32-d416-47c0-8e93-e3ad0bdbeead",
   "metadata": {},
   "outputs": [],
   "source": []
  }
 ],
 "metadata": {
  "kernelspec": {
   "display_name": "Python 3 (ipykernel)",
   "language": "python",
   "name": "python3"
  },
  "language_info": {
   "codemirror_mode": {
    "name": "ipython",
    "version": 3
   },
   "file_extension": ".py",
   "mimetype": "text/x-python",
   "name": "python",
   "nbconvert_exporter": "python",
   "pygments_lexer": "ipython3",
   "version": "3.9.12"
  }
 },
 "nbformat": 4,
 "nbformat_minor": 5
}
