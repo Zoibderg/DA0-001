{
 "cells": [
  {
   "cell_type": "markdown",
   "id": "63b854a4-4697-4f09-9aa0-88734ae16fdd",
   "metadata": {},
   "source": [
    "# 3.2 - Explain the purpose of inferential statistical methods."
   ]
  },
  {
   "cell_type": "markdown",
   "id": "1b60bff2-ff57-4844-a8d4-ec4efac55380",
   "metadata": {
    "tags": []
   },
   "source": [
    "## Hypothesis Testing"
   ]
  },
  {
   "cell_type": "markdown",
   "id": "77a17f6c-ab4f-457a-8238-e7d8fda3599d",
   "metadata": {},
   "source": [
    "$H_0$ : Reject our assumption\n",
    "\n",
    "$H_1$ : Accept our assumption"
   ]
  },
  {
   "cell_type": "markdown",
   "id": "92c59f9a-c70a-44ff-abe6-b220ee8519dc",
   "metadata": {},
   "source": [
    "## t-value/t-test/t-score"
   ]
  },
  {
   "cell_type": "markdown",
   "id": "1e5707e4-c40d-4ff8-8165-8f77b404ceeb",
   "metadata": {},
   "source": [
    "**Assumption**: Our two different groups differ by their mean. \n",
    "\n",
    "$H_0$ : Means of two groups are equal\n",
    "\n",
    "$H_1$ : Means of two groups are not equal\n",
    "\n",
    "**ONE-TAIL VS TWO-TAILS**\n",
    "\n",
    "- ONE-TAIL\n",
    "    - One population mean is greater/less than the other (direction of difference is important)\n",
    "- TWO-TAIL\n",
    "    - One population mean is different from the other (direction of difference is not important)\n",
    "    \n",
    "**Calculating t-value**\n",
    "\n",
    "$t = \\frac{\\overline{x}_1 - \\overline{x}_2}{\\sqrt{(SE(\\frac{1}{n_1} + \\frac{1}{n_2}))}}$\n",
    "\n",
    "SE - Standard Error: Estimate of the SD for the selected sample. Basic idea is that we take the SD for just a sample of the whole population to give us and \"estimated SD\". The real complexites of this dive deep into probabality theory and don't need to be deeply understood. Just know the basic idea and what is happening. \n",
    "\n",
    "This calcuation will provied us with the t-score of our population, which we will then need to compare with the t Table. This will tell us how probabal it is that our hypthosis will be accepted. \n",
    "\n",
    "![t-table](t-table.png)"
   ]
  },
  {
   "cell_type": "markdown",
   "id": "3973c0a0-7f9a-42ba-95dd-d88eb0c330f2",
   "metadata": {},
   "source": [
    "## z-value/z-test/z-score"
   ]
  },
  {
   "cell_type": "markdown",
   "id": "650be393-d661-4aea-81bd-affa524bf362",
   "metadata": {},
   "source": [
    "$H_0$ : Means of teow groups are equal\n",
    "\n",
    "$H_1$ : Means of two groups are not equal\n",
    "\n",
    "**When to use z-test**\n",
    "- $n(sample size) > 30$\n",
    "- SD is known\n",
    "\n",
    "**ONE-TAIL VS TWO-TAILS**\n",
    "\n",
    "- ONE-TAIL\n",
    "    - One population mean is greater/less than the other (direction of difference is important)\n",
    "- TWO-TAIL\n",
    "    - One population mean is different from the other (direction of difference is not important)\n",
    "    \n",
    "**Calcuating z-value**\n",
    "\n",
    "ONE-TAILED Z-TEST:\n",
    "\n",
    "$z = \\frac{\\overline{x} - \\mu}{\\frac{\\sigma}{\\sqrt{n}}}$\n",
    "\n",
    "TWO-TAILED Z-TEST:\n",
    "\n",
    "$z = \\frac{(\\overline{x_1} - \\overline{x_2}) - (\\mu_1 - \\mu_2)}{\\sqrt{\\frac{\\sigma^2_1}{n_1} + \\frac{\\sigma^2_2}{n_2}}}$\n",
    "\n",
    "You then will compare you z-score to the table which will tell you if you can cofidently accept your hypothsis. \n",
    "\n",
    "![z-table](z-table.png)"
   ]
  },
  {
   "cell_type": "markdown",
   "id": "cce3aec5-2fa0-401e-af73-0eb251f152b6",
   "metadata": {},
   "source": [
    "## p-values"
   ]
  },
  {
   "cell_type": "markdown",
   "id": "64fb1a52-a8d0-41a0-9772-2afd77969137",
   "metadata": {},
   "source": [
    "The probabality that the null hypothsis will be accepted. Any software that you use will provied you with the p-value for your dataset. After runing a test we can look at the p-value to see if your reslts are signifcant.\n",
    "\n",
    "- $P < 0.05$\n",
    "    - Test results are signifcant\n",
    "- $P \\ge 0.05$\n",
    "    - Test results are not signifcant"
   ]
  },
  {
   "cell_type": "markdown",
   "id": "3f69bf81-5eca-4d80-b322-38a38d56b852",
   "metadata": {},
   "source": [
    "## Chi-squared"
   ]
  },
  {
   "cell_type": "markdown",
   "id": "5fda80d6-14ee-4c59-9756-98faa531c0da",
   "metadata": {},
   "source": [
    "Checks if observed frequences are equal or not to the expected frequencies.\n",
    "\n",
    "- Can be used for multiple categories\n",
    "\n",
    "- Advantages\n",
    "    - Easy to compute\n",
    "    - Doesn't assume anything about the data\n",
    "    \n",
    "- Disadvantages\n",
    "    - Needs more than 20 observations\n",
    "    - Data must be frequency data\n",
    "    - Senstive to small frequencies\n",
    "    - Requires random sampling\n",
    "\n",
    "**Calcuating Chi-squared value:**\n",
    "\n",
    "$x^2 = \\sum \\frac{(O - E)^2}{E}$\n",
    "\n",
    "O : observed frequency\n",
    "E : expected frequency\n",
    "\n",
    "**The closer the value is to 0 then the less difference between observed and expected**\n",
    "\n",
    "**Some expamples of chi-squared tests:**\n",
    "\n",
    "1. Goodnes of fit\n",
    "2. Test of independence\n",
    "3. Test of homogeneity"
   ]
  },
  {
   "cell_type": "markdown",
   "id": "a7dde905-2d59-4b3e-979e-c4c2f0406e4e",
   "metadata": {},
   "source": [
    "### Goodness of fit\n",
    "\n",
    "$H_0$ : No signifcant difference between observed and expected values.\n",
    "\n",
    "$H_1$ : Signifcant difference between observed and expected values.\n",
    "\n",
    "### Test of independence\n",
    "\n",
    "\"Are two variables independent or not?\"\n",
    "\n",
    "$H_0$ : No signifcant relationship between variables\n",
    "\n",
    "$H_1$ : Signifcant relationship between variables\n",
    "\n",
    "### Test of homogeneity\n",
    "\n",
    "$H_0$ : Frequency count across populations is the same\n",
    "\n",
    "$H_1$ : Frequency count across populations is different"
   ]
  },
  {
   "cell_type": "markdown",
   "id": "f63d9a84-5b7c-4851-bf75-a690d7a56765",
   "metadata": {
    "tags": []
   },
   "source": [
    "## Linear Regression"
   ]
  },
  {
   "cell_type": "markdown",
   "id": "73cc2c20-c52f-4ff3-b1e0-a968456b8a84",
   "metadata": {},
   "source": []
  },
  {
   "cell_type": "markdown",
   "id": "c7dd0067-2b1f-4581-a49a-27c54d79bded",
   "metadata": {},
   "source": []
  },
  {
   "cell_type": "markdown",
   "id": "f779c352-b375-4c79-9a13-fe42c970fc1c",
   "metadata": {},
   "source": [
    "## Correlation"
   ]
  },
  {
   "cell_type": "markdown",
   "id": "07e6b587-3703-44eb-b107-32b6bdc91811",
   "metadata": {},
   "source": []
  },
  {
   "cell_type": "markdown",
   "id": "921e9d48-9dc0-4315-8de1-523c630c022f",
   "metadata": {},
   "source": []
  }
 ],
 "metadata": {
  "kernelspec": {
   "display_name": "Python 3 (ipykernel)",
   "language": "python",
   "name": "python3"
  },
  "language_info": {
   "codemirror_mode": {
    "name": "ipython",
    "version": 3
   },
   "file_extension": ".py",
   "mimetype": "text/x-python",
   "name": "python",
   "nbconvert_exporter": "python",
   "pygments_lexer": "ipython3",
   "version": "3.9.12"
  }
 },
 "nbformat": 4,
 "nbformat_minor": 5
}
