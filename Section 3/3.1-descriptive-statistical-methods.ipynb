{
 "cells": [
  {
   "cell_type": "markdown",
   "id": "5a455da2-a9a1-482c-8deb-4c44416d0182",
   "metadata": {},
   "source": [
    "# 3.1 - Given a scenario, apply the appropriate descriptive statistical methods."
   ]
  },
  {
   "cell_type": "markdown",
   "id": "59356f75-d97b-4c4a-93a3-efa175f13abd",
   "metadata": {},
   "source": [
    "### Distribution"
   ]
  },
  {
   "cell_type": "markdown",
   "id": "9feb9ff5-f064-47fa-82a8-54968e0ed399",
   "metadata": {},
   "source": [
    "Statistical data set (or a population) is a listing or function showing all the possible values (or intervals) of the data and how often they occur, we can think of a distribution as a function that describes the relationship between observations in a sample space.\n",
    "\n",
    "For example, think of a Histogram. Histograms that represent very large data sets grouped into many classes have a relatively smooth appearance. Consequently, the distribution can be modeled by a smooth curve that is close to the tops of the bars. This curve is called a distribution curve.\n",
    "\n",
    "**Probability Distribution**: Probability distributions indicate the likelihood of an event or outcome. P(x) = the likelihood that random variable takes a specific value of x.\n",
    "\n",
    "For example, In an experiment three fair coins are tossed, then sample space is:\n",
    "\n",
    "``` S = [HHH, HHT, HTH, THH, HTT, TTH, THT, TTT] ```\n",
    "\n",
    "X is our random variable, having values 3, 2, 1, 0. So:\n",
    "\n",
    "$ P(X = 0) = P(TTT) = 1/8 $\n",
    "\n",
    "$ P(X = 1) = P(HTT) + P(TTH) + P(THT) = 3/8 $\n",
    "\n",
    "$ P(X = 2) = P(HHT) + P(HTH) + P(THH) = 3/8 $\n",
    "\n",
    "$ P(X = 3) = P(HHH) = 1/8 $\n",
    "\n",
    "We can make a table from this calcution, called the probablity distribution of random variable X:\n",
    "\n",
    "| X (random variable) | P(X) |\n",
    "| ------------------- | ---- |\n",
    "| 0 | 1/8 |\n",
    "| 1 | 3/8 |\n",
    "| 2 | 3/8 |\n",
    "| 3 | 1/8 |"
   ]
  },
  {
   "cell_type": "markdown",
   "id": "ba1f9089-f12f-4317-883e-e8e6e9dec7b5",
   "metadata": {},
   "source": [
    "**Distribution can be divided into 2 types:**\n",
    "1. Discrete distribution:\n",
    "    - Based on discrete random variable, examples are Binomial Distribtion and Possion Distribution\n",
    "2. Continuous distribution:\n",
    "    - Based on continuous random variable, easmples are Normal Distribiton, Uniform Distribution and Exponential Distribtion"
   ]
  },
  {
   "cell_type": "markdown",
   "id": "c2e3bab9-bba3-4add-bdf8-f466a7dc4944",
   "metadata": {},
   "source": [
    "**Probability Mass Function:**"
   ]
  },
  {
   "cell_type": "markdown",
   "id": "fba57021-3b15-44ff-be47-d3ef5fe0bd6e",
   "metadata": {},
   "source": [
    "### Variance"
   ]
  },
  {
   "cell_type": "markdown",
   "id": "e0e868d2-4c65-485d-bcdb-ddff3458d04e",
   "metadata": {},
   "source": [
    "Shows us the numerical mesure of the spread of points in our data set. \n",
    "\n",
    "Consider the folling sequence:\n",
    "\n",
    "``` [3, 1, 2, 5, 3, 5, 6, 10, 2, 9] ```\n",
    "\n",
    "To find the variance of this sequence, we first need to calculate the mean on the sequence.\n",
    "\n",
    "Mean = $(3 + 1 + 2 + ... + 9) / 10 = 4.6$\n",
    "\n",
    "Next we need to take the mean and subtract it from each number in our sequence, square that number and then add all of those together, finally dividing again by the total numbers in our sequence.\n",
    "\n",
    "Variance = $((3 - 4.6)^2 + (1 - 4.6)^2 + ... + (9 - 4.6)^2) / 10 = 8.24$"
   ]
  },
  {
   "cell_type": "markdown",
   "id": "a0f71b83-d272-4f54-ba31-215a22561dd9",
   "metadata": {},
   "source": [
    "### Standard deviation"
   ]
  },
  {
   "cell_type": "markdown",
   "id": "c14af8c1-814a-4e78-880f-7a8d6be19515",
   "metadata": {},
   "source": [
    "Shows us the avrage distace for each point in our data set from the mean. \n",
    "\n",
    "If we have already calculate the variance of the data set, finding the standard devation is quite easy, we siply need to get the square root of the variance. \n",
    "\n",
    "Standard deviation = $\\sqrt{8.24} = 2.87$"
   ]
  },
  {
   "cell_type": "markdown",
   "id": "7fd34f94-7b8f-4c12-80d1-d260280893ad",
   "metadata": {},
   "source": []
  },
  {
   "cell_type": "markdown",
   "id": "c6f7cd85-1854-4d4a-93c4-60a5df66dc05",
   "metadata": {},
   "source": [
    "### Frequencies/percentages"
   ]
  },
  {
   "cell_type": "markdown",
   "id": "41d65966-2e05-496b-b202-ce6707811552",
   "metadata": {},
   "source": []
  },
  {
   "cell_type": "markdown",
   "id": "3e7937bb-f503-4b08-9bc0-ac2a39635928",
   "metadata": {},
   "source": []
  },
  {
   "cell_type": "markdown",
   "id": "ae98cfb7-4799-4c7d-a2e6-fd9f4994a260",
   "metadata": {},
   "source": [
    "### Percent change"
   ]
  },
  {
   "cell_type": "markdown",
   "id": "f93c209c-7719-4469-982c-bdbff4752a68",
   "metadata": {},
   "source": []
  },
  {
   "cell_type": "markdown",
   "id": "d8dcd812-4eb8-4206-84b1-513e63ecd9dc",
   "metadata": {},
   "source": []
  },
  {
   "cell_type": "markdown",
   "id": "30c5516b-9304-4b1f-bb39-3c997b0ad4ea",
   "metadata": {},
   "source": [
    "### Percent difference"
   ]
  },
  {
   "cell_type": "markdown",
   "id": "b9208af6-8d40-4f95-86eb-c4027cd25b3f",
   "metadata": {},
   "source": []
  },
  {
   "cell_type": "markdown",
   "id": "229b40d3-115d-48d8-ad0f-6a361dd09db2",
   "metadata": {},
   "source": []
  },
  {
   "cell_type": "markdown",
   "id": "beb1845b-108e-4a96-9c02-6fb137cc7091",
   "metadata": {},
   "source": [
    "### Confidence intervals"
   ]
  },
  {
   "cell_type": "markdown",
   "id": "4a0e686c-1bf7-4c57-8143-6948d2bec7dc",
   "metadata": {},
   "source": []
  },
  {
   "cell_type": "markdown",
   "id": "f5b100ed-c802-452e-8ef9-6a5470ef2946",
   "metadata": {},
   "source": []
  }
 ],
 "metadata": {
  "kernelspec": {
   "display_name": "Python 3 (ipykernel)",
   "language": "python",
   "name": "python3"
  },
  "language_info": {
   "codemirror_mode": {
    "name": "ipython",
    "version": 3
   },
   "file_extension": ".py",
   "mimetype": "text/x-python",
   "name": "python",
   "nbconvert_exporter": "python",
   "pygments_lexer": "ipython3",
   "version": "3.9.12"
  }
 },
 "nbformat": 4,
 "nbformat_minor": 5
}
