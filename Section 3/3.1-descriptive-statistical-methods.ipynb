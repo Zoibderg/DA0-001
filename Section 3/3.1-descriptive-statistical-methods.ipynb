{
 "cells": [
  {
   "cell_type": "markdown",
   "id": "5a455da2-a9a1-482c-8deb-4c44416d0182",
   "metadata": {},
   "source": [
    "# 3.1 - Given a scenario, apply the appropriate descriptive statistical methods."
   ]
  },
  {
   "cell_type": "markdown",
   "id": "59356f75-d97b-4c4a-93a3-efa175f13abd",
   "metadata": {},
   "source": [
    "### Distribution"
   ]
  },
  {
   "cell_type": "markdown",
   "id": "9feb9ff5-f064-47fa-82a8-54968e0ed399",
   "metadata": {},
   "source": [
    "Statistical data set (or a population) is a listing or function showing all the possible values (or intervals) of the data and how often they occur, we can think of a distribution as a function that describes the relationship between observations in a sample space.\n",
    "\n",
    "For example, think of a Histogram. Histograms that represent very large data sets grouped into many classes have a relatively smooth appearance. Consequently, the distribution can be modeled by a smooth curve that is close to the tops of the bars. This curve is called a distribution curve.\n",
    "\n",
    "**Probability Distribution**: Probability distributions indicate the likelihood of an event or outcome. P(x) = the likelihood that random variable takes a specific value of x.\n",
    "\n",
    "For example, In an experiment three fair coins are tossed, then sample space is:\n",
    "\n",
    "``` S = [HHH, HHT, HTH, THH, HTT, TTH, THT, TTT] ```\n",
    "\n",
    "X is our random variable, having values 3, 2, 1, 0. So:\n",
    "\n",
    "$ P(X = 0) = P(TTT) = 1/8 $\n",
    "\n",
    "$ P(X = 1) = P(HTT) + P(TTH) + P(THT) = 3/8 $\n",
    "\n",
    "$ P(X = 2) = P(HHT) + P(HTH) + P(THH) = 3/8 $\n",
    "\n",
    "$ P(X = 3) = P(HHH) = 1/8 $\n",
    "\n",
    "We can make a table from this calcution, called the probablity distribution of random variable X:\n",
    "\n",
    "| X (random variable) | P(X) |\n",
    "| ------------------- | ---- |\n",
    "| 0 | 1/8 |\n",
    "| 1 | 3/8 |\n",
    "| 2 | 3/8 |\n",
    "| 3 | 1/8 |"
   ]
  },
  {
   "cell_type": "markdown",
   "id": "ba1f9089-f12f-4317-883e-e8e6e9dec7b5",
   "metadata": {},
   "source": [
    "**Distribution can be divided into 2 types:**\n",
    "1. Discrete distribution:\n",
    "    - Based on discrete random variable, examples are Binomial Distribtion and Possion Distribution\n",
    "2. Continuous distribution:\n",
    "    - Based on continuous random variable, easmples are Normal Distribiton, Uniform Distribution and Exponential Distribtion"
   ]
  },
  {
   "cell_type": "markdown",
   "id": "c2e3bab9-bba3-4add-bdf8-f466a7dc4944",
   "metadata": {},
   "source": [
    "**Probability Mass Function:**\n",
    "\n",
    "A function that gives the probability that a discrete random variable is exactly equal to some value. Sometimes it is also known as the discrete density function. The probability mass function is often the primary means of defining a discrete probability distribution, and such functions exist for either scalar or multivariate random variables whose domain is discrete.\n",
    "\n",
    "Understand this concept in detail is far beyond the scope of this course, as it does start to involve some complex mathmatics. I will go ahead and throw the equations down below for later reference, but if you don't understand what is going on, thats okay, just undestand that this is esentally calcuation the probality of a variable. \n",
    "\n",
    "Let x be discrete random variable then its Probability Mass Function p(x) is defined such that:\n",
    "\n",
    "1. $p(x) \\ge 0$\n",
    "2. $\\sum\\rho(\\chi) = 1$\n",
    "3. $p(x) = P(X = x)$\n",
    "\n",
    "Let x be continuous random variable then probability density function F(x) is defined such that:\n",
    "\n",
    "1. $F(x) \\ge 0$\n",
    "2. $\\int_{-\\infty}^{+\\infty} F(\\chi) d\\chi = 1$\n",
    "3. $P(a < x < b) = \\int_{a}^{b} F(\\chi) d\\chi$\n",
    "\n",
    "**Properties of Discrete Distribution:**\n",
    "\n",
    "1. $\\sum P(\\chi) = 1$\n",
    "2. $E(x) = \\sum\\chi * P(\\chi)$\n",
    "3. $V(x) = E(\\chi^2) - (E(\\chi))^2$\n",
    "\n",
    "**Properties of Continuous Distribution:**\n",
    "\n",
    "1. $\\int_{-\\infty}^{+\\infty} f(\\chi) d\\chi = 1$\n",
    "2. $E(x) = \\int_{-\\infty}^{+\\infty} \\chi * f(\\chi) d\\chi$\n",
    "3. $V(x) = E(\\chi^2) - (E(\\chi))^2$\n",
    "4. $p(a < x < b) = \\int_{a}^{b} f(\\chi) d\\chi$\n",
    "\n",
    "- E(x) denotes expected value or average value of the random variable x.\n",
    "- V(x) denotes the variance of the random variable x."
   ]
  },
  {
   "cell_type": "markdown",
   "id": "fba57021-3b15-44ff-be47-d3ef5fe0bd6e",
   "metadata": {},
   "source": [
    "### Variance"
   ]
  },
  {
   "cell_type": "markdown",
   "id": "e0e868d2-4c65-485d-bcdb-ddff3458d04e",
   "metadata": {},
   "source": [
    "Shows us the numerical mesure of the spread of points in our data set. \n",
    "\n",
    "Consider the folling sequence:\n",
    "\n",
    "``` [3, 1, 2, 5, 3, 5, 6, 10, 2, 9] ```\n",
    "\n",
    "To find the variance of this sequence, we first need to calculate the mean on the sequence.\n",
    "\n",
    "**Mean** = $(3 + 1 + 2 + ... + 9) / 10 = 4.6$\n",
    "\n",
    "Next we need to take the mean and subtract it from each number in our sequence, square that number and then add all of those together, finally dividing again by the total numbers in our sequence.\n",
    "\n",
    "**Variance** = $((3 - 4.6)^2 + (1 - 4.6)^2 + ... + (9 - 4.6)^2) / 10 = 8.24$"
   ]
  },
  {
   "cell_type": "markdown",
   "id": "a0f71b83-d272-4f54-ba31-215a22561dd9",
   "metadata": {},
   "source": [
    "### Standard deviation"
   ]
  },
  {
   "cell_type": "markdown",
   "id": "c14af8c1-814a-4e78-880f-7a8d6be19515",
   "metadata": {},
   "source": [
    "Shows us the avrage distace for each point in our data set from the mean. \n",
    "\n",
    "If we have already calculate the variance of the data set, finding the standard devation is quite easy, we simply need to get the square root of the variance. \n",
    "\n",
    "**Standard deviation** = $\\sqrt{8.24} = 2.87$"
   ]
  },
  {
   "cell_type": "markdown",
   "id": "ae98cfb7-4799-4c7d-a2e6-fd9f4994a260",
   "metadata": {},
   "source": [
    "### Percent change"
   ]
  },
  {
   "cell_type": "markdown",
   "id": "f93c209c-7719-4469-982c-bdbff4752a68",
   "metadata": {},
   "source": [
    "A way to express a change in a variable. It represents the relative change between the old value and the new one.\n",
    "\n",
    "If $V_1$ represents the old value and $V_2$ the new one:\n",
    "\n",
    "Percentage change = $\\frac{ΔV}{V_1} = \\frac{V_2 - V_1}{V_1}$ * 100%"
   ]
  },
  {
   "cell_type": "markdown",
   "id": "30c5516b-9304-4b1f-bb39-3c997b0ad4ea",
   "metadata": {},
   "source": [
    "### Percent difference"
   ]
  },
  {
   "cell_type": "markdown",
   "id": "b9208af6-8d40-4f95-86eb-c4027cd25b3f",
   "metadata": {},
   "source": [
    "The difference between two values divided by the average of the two values. Shown as a percentage.\n",
    "\n",
    "Percentage Difference is used when both values mean the same kind of thing (for example the heights of two people).\n",
    "\n",
    "- But if there is an old value and a new value, we should use Percentage Change\n",
    "- Or if there is an approximate value and an exact value, we should use Percentage Error\n",
    "\n",
    "**Example**\n",
    "\n",
    "$\\frac{25 - 15}{(25 + 15)/2}$ * 100% = 50%"
   ]
  },
  {
   "cell_type": "markdown",
   "id": "beb1845b-108e-4a96-9c02-6fb137cc7091",
   "metadata": {},
   "source": [
    "### Confidence intervals"
   ]
  },
  {
   "cell_type": "markdown",
   "id": "4a0e686c-1bf7-4c57-8143-6948d2bec7dc",
   "metadata": {},
   "source": [
    "Measures the degree of uncertainty or certainty in a sampling method. They can take any number of probability limits, with the most common being a 95% or 99% confidence level. Confidence intervals are conducted using statistical methods, such as a t-test (covered in 3.2).\n",
    "\n",
    "The biggest misconception regarding confidence intervals is that they represent the percentage of data from a given sample that falls between the upper and lower bounds. For example, one might erroneously interpret the aforementioned 99% confidence interval of 70-to-78 inches as indicating that 99% of the data in a random sample falls between these numbers. This is incorrect, though a separate method of statistical analysis exists to make such a determination. Doing so involves identifying the sample's mean and standard deviation and plotting these figures on a bell curve.\n",
    "\n",
    "**Calculating Confidence Interval**\n",
    "\n",
    "Suppose a group of researchers is studying the heights of high school basketball players. The researchers take a random sample from the population and establish a mean height of 74 inches.\n",
    "\n",
    "The mean of 74 inches is a point estimate of the population mean. A point estimate by itself is of limited usefulness because it does not reveal the uncertainty associated with the estimate; you do not have a good sense of how far away this 74-inch sample mean might be from the population mean. What's missing is the degree of uncertainty in this single sample.\n",
    "\n",
    "Confidence intervals provide more information than point estimates. By establishing a 95% confidence interval using the sample's mean and standard deviation, and assuming a normal distribution as represented by the bell curve, the researchers arrive at an upper and lower bound that contains the true mean 95% of the time.\n",
    "\n",
    "Assume the interval is between 72 inches and 76 inches. If the researchers take 100 random samples from the population of high school basketball players as a whole, the mean should fall between 72 and 76 inches in 95 of those samples.\n",
    "\n",
    "If the researchers want even greater confidence, they can expand the interval to 99% confidence. Doing so invariably creates a broader range, as it makes room for a greater number of sample means. If they establish the 99% confidence interval as being between 70 inches and 78 inches, they can expect 99 of 100 samples evaluated to contain a mean value between these numbers.\n",
    "\n",
    "A 90% confidence level, on the other hand, implies that we would expect 90% of the interval estimates to include the population parameter, and so forth."
   ]
  },
  {
   "cell_type": "code",
   "execution_count": null,
   "id": "6701ba6c-4e27-4fbe-8351-eb54ca94f1ae",
   "metadata": {},
   "outputs": [],
   "source": []
  }
 ],
 "metadata": {
  "kernelspec": {
   "display_name": "Python 3 (ipykernel)",
   "language": "python",
   "name": "python3"
  },
  "language_info": {
   "codemirror_mode": {
    "name": "ipython",
    "version": 3
   },
   "file_extension": ".py",
   "mimetype": "text/x-python",
   "name": "python",
   "nbconvert_exporter": "python",
   "pygments_lexer": "ipython3",
   "version": "3.9.12"
  }
 },
 "nbformat": 4,
 "nbformat_minor": 5
}
