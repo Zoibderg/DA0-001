{
 "cells": [
  {
   "cell_type": "markdown",
   "id": "5a455da2-a9a1-482c-8deb-4c44416d0182",
   "metadata": {},
   "source": [
    "# 3.1 - Given a scenario, apply the appropriate descriptive statistical methods."
   ]
  },
  {
   "cell_type": "markdown",
   "id": "59356f75-d97b-4c4a-93a3-efa175f13abd",
   "metadata": {},
   "source": [
    "### Distribution"
   ]
  },
  {
   "cell_type": "markdown",
   "id": "9feb9ff5-f064-47fa-82a8-54968e0ed399",
   "metadata": {},
   "source": []
  },
  {
   "cell_type": "markdown",
   "id": "ba1f9089-f12f-4317-883e-e8e6e9dec7b5",
   "metadata": {},
   "source": []
  },
  {
   "cell_type": "markdown",
   "id": "fba57021-3b15-44ff-be47-d3ef5fe0bd6e",
   "metadata": {},
   "source": [
    "### Variance"
   ]
  },
  {
   "cell_type": "markdown",
   "id": "e0e868d2-4c65-485d-bcdb-ddff3458d04e",
   "metadata": {},
   "source": []
  },
  {
   "cell_type": "markdown",
   "id": "70dbdb23-6a91-4088-8434-2b933edc14ac",
   "metadata": {},
   "source": []
  },
  {
   "cell_type": "markdown",
   "id": "a0f71b83-d272-4f54-ba31-215a22561dd9",
   "metadata": {},
   "source": [
    "### Standard deviation"
   ]
  },
  {
   "cell_type": "markdown",
   "id": "c14af8c1-814a-4e78-880f-7a8d6be19515",
   "metadata": {},
   "source": []
  },
  {
   "cell_type": "markdown",
   "id": "7fd34f94-7b8f-4c12-80d1-d260280893ad",
   "metadata": {},
   "source": []
  },
  {
   "cell_type": "markdown",
   "id": "c6f7cd85-1854-4d4a-93c4-60a5df66dc05",
   "metadata": {},
   "source": [
    "### Frequencies/percentages"
   ]
  },
  {
   "cell_type": "markdown",
   "id": "41d65966-2e05-496b-b202-ce6707811552",
   "metadata": {},
   "source": []
  },
  {
   "cell_type": "markdown",
   "id": "3e7937bb-f503-4b08-9bc0-ac2a39635928",
   "metadata": {},
   "source": []
  },
  {
   "cell_type": "markdown",
   "id": "ae98cfb7-4799-4c7d-a2e6-fd9f4994a260",
   "metadata": {},
   "source": [
    "### Percent change"
   ]
  },
  {
   "cell_type": "markdown",
   "id": "f93c209c-7719-4469-982c-bdbff4752a68",
   "metadata": {},
   "source": []
  },
  {
   "cell_type": "markdown",
   "id": "d8dcd812-4eb8-4206-84b1-513e63ecd9dc",
   "metadata": {},
   "source": []
  },
  {
   "cell_type": "markdown",
   "id": "30c5516b-9304-4b1f-bb39-3c997b0ad4ea",
   "metadata": {},
   "source": [
    "### Percent difference"
   ]
  },
  {
   "cell_type": "markdown",
   "id": "b9208af6-8d40-4f95-86eb-c4027cd25b3f",
   "metadata": {},
   "source": []
  },
  {
   "cell_type": "markdown",
   "id": "229b40d3-115d-48d8-ad0f-6a361dd09db2",
   "metadata": {},
   "source": []
  },
  {
   "cell_type": "markdown",
   "id": "beb1845b-108e-4a96-9c02-6fb137cc7091",
   "metadata": {},
   "source": [
    "### Confidence intervals"
   ]
  },
  {
   "cell_type": "markdown",
   "id": "4a0e686c-1bf7-4c57-8143-6948d2bec7dc",
   "metadata": {},
   "source": []
  },
  {
   "cell_type": "markdown",
   "id": "f5b100ed-c802-452e-8ef9-6a5470ef2946",
   "metadata": {},
   "source": []
  }
 ],
 "metadata": {
  "kernelspec": {
   "display_name": "Python 3 (ipykernel)",
   "language": "python",
   "name": "python3"
  },
  "language_info": {
   "codemirror_mode": {
    "name": "ipython",
    "version": 3
   },
   "file_extension": ".py",
   "mimetype": "text/x-python",
   "name": "python",
   "nbconvert_exporter": "python",
   "pygments_lexer": "ipython3",
   "version": "3.9.12"
  }
 },
 "nbformat": 4,
 "nbformat_minor": 5
}
