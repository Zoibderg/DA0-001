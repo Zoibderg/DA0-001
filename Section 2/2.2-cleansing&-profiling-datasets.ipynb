{
 "cells": [
  {
   "cell_type": "markdown",
   "id": "c6c4ed23-3b81-48e0-a81c-c0028c5cf8a7",
   "metadata": {},
   "source": [
    "# 2.2 - Identify common reasons for cleansing and profiling datasets."
   ]
  },
  {
   "cell_type": "markdown",
   "id": "90b6f77f-4636-4966-a5a9-445d7b70a52b",
   "metadata": {},
   "source": [
    "## Duplicate Data"
   ]
  },
  {
   "cell_type": "markdown",
   "id": "d3f8cb74-1fe9-4635-9e05-e89aa28166cd",
   "metadata": {},
   "source": [
    "Duplicate data is defined as either values or columns that are repeated in our data set. \n",
    "\n",
    "- After confirming that said data is infact duplicated; this issue can be eaisly resolved by removing the duplicated data until only one value or column is present. \n",
    "\n",
    "### Duplicated Values\n",
    "\n",
    "| ID | Name | Class | Grade |\n",
    "| -- | ---- | ----- | ----- | \n",
    "| 01 | Mike | History | 95 |\n",
    "| 02 | Jill | Math | 85 |\n",
    "| 01 | Mike | History | 95 |\n",
    "\n",
    "In the above table, the third entry is clearly a duplicate of the first entry. So, we can simply remove our third entry to avoid duplicate data in our data base.\n",
    "\n",
    "| ID | Name | Class | Grade |\n",
    "| -- | ---- | ----- | ----- | \n",
    "| 01 | Mike | History | 95 |\n",
    "| 02 | Jill | Math | 85 |\n",
    "\n",
    "### Duplicated Columns\n",
    "\n",
    "| ID | Name | Class | Grade | ID |\n",
    "| -- | ---- | ----- | ----- | -- |\n",
    "| 01 | Mike | History | 95 | 01 |\n",
    "| 02 | Jill | Math | 85 | 01 |\n",
    "\n",
    "Here we can see that the column 'ID' is duplicated in this table, again this can simply be removed from our database to resolve this issue. Keep in mind that a duplicated column may no always have the same heading for instance - \n",
    "\n",
    "| ID | Name | Class | Grade | StudnetID |\n",
    "| -- | ---- | ----- | ----- | -- |\n",
    "| 01 | Mike | History | 95 | 01 |\n",
    "| 02 | Jill | Math | 85 | 01 |\n",
    "\n",
    "We can see that while the column name may be different, our values in the column are the same and representing the same thing, we can choose the column name that works best for our dataset and remove the other. "
   ]
  },
  {
   "cell_type": "markdown",
   "id": "59530069-8635-4ba6-af46-9df3f7eba1cb",
   "metadata": {},
   "source": [
    "## Redundant Data"
   ]
  },
  {
   "cell_type": "markdown",
   "id": "ae8d0b26-70ec-4179-a6b6-cbc304929a4b",
   "metadata": {},
   "source": [
    "Redundent data is defined as reciving more data than was requested for our task. While this will require some cleaning, it is almost never a bad thing to have more data than we need. Take for example looking at the price of BTC through the day, maybe we are looking to see the value of BTC at the top of every hour and we are given the value for every min. We can simply choose wether we want to know the value at the top of the hour or the end of the hour and remove the rest of the data. \n",
    "\n",
    "| Time | BTC |\n",
    "| ---- | --- |\n",
    "| 12:00 | 100 |\n",
    "| 12:01 | 101 |\n",
    "| 12:02 | 103 |\n",
    "| 12:03 | 100 |\n",
    "| 12:04 | 100 |\n",
    "| etc. |  |\n",
    "| 12:59 | 101 |\n",
    "| 01:00 | 100 |\n",
    "| 01:01 | 101 |\n",
    "| 01:02 | 103 |\n",
    "| 01:03 | 100 |\n",
    "| 01:04 | 100 |\n",
    "| etc. |  |\n",
    "| 01:59 | 101 |\n",
    "\n",
    "Lets say the for this data set we have choosen to take the value of BTC at the top of the hour, this makes all the other entries redundent and the can be removed from our data base, giving us a clean database with the values that we need. \n",
    "\n",
    "| Time | BTC |\n",
    "| ---- | --- |\n",
    "| 12:00 | 100 |\n",
    "| 01:00 | 100 |"
   ]
  },
  {
   "cell_type": "markdown",
   "id": "03c8a25d-dbf9-4162-afa3-6d659869431e",
   "metadata": {},
   "source": [
    "## Missing Values, Invalid Data and Outliers"
   ]
  },
  {
   "cell_type": "markdown",
   "id": "c552a7e4-3ee6-4d23-9703-8b279dd86ab3",
   "metadata": {},
   "source": [
    "#### Missing Values\n",
    "\n",
    "Missing values in our data can be quite the issue, and depending out the type of data that we are analyzing, solving this issue can be quite complex. \n",
    "\n",
    "If it is applicable to our data we can use three valuiable methods to fill our missing data.\n",
    "- Mean\n",
    "    - the average of the numbers: a calculated \"central\" value of a set of numbers\n",
    "- Meadian\n",
    "    - the \"middle\" of a sorted list of numbers\n",
    "- Mode\n",
    "    - the most frequent number—-that is, the number that occurs the highest number of times. "
   ]
  },
  {
   "cell_type": "markdown",
   "id": "177b68fb-d49f-443b-a92a-9abcfa7b4473",
   "metadata": {},
   "source": [
    "### Invalid Data"
   ]
  },
  {
   "cell_type": "markdown",
   "id": "2a210150-a09c-4292-bf05-da12c025419c",
   "metadata": {},
   "source": [
    "### Outliers"
   ]
  },
  {
   "cell_type": "markdown",
   "id": "f6b16311-b7be-4683-a961-c310d6763082",
   "metadata": {},
   "source": [
    "## Non-parametric Data"
   ]
  },
  {
   "cell_type": "markdown",
   "id": "f2c8414d-736c-447d-af6f-01cb4b631ef7",
   "metadata": {},
   "source": []
  },
  {
   "cell_type": "markdown",
   "id": "d04ae6a9-98a6-4aa7-9c63-3e28b0397243",
   "metadata": {},
   "source": []
  },
  {
   "cell_type": "markdown",
   "id": "5ffc8565-b3cc-42b0-ae32-2bd6ad580b70",
   "metadata": {},
   "source": [
    "## Specifcation Mismatch"
   ]
  },
  {
   "cell_type": "markdown",
   "id": "41815ed0-0315-47d2-b21d-3ddd1adbf7e5",
   "metadata": {},
   "source": []
  },
  {
   "cell_type": "markdown",
   "id": "7ad54495-4e1e-4ec9-ac9f-71ba97753ae5",
   "metadata": {},
   "source": []
  },
  {
   "cell_type": "markdown",
   "id": "e1d69c29-d543-4405-b6cd-588d45123119",
   "metadata": {},
   "source": [
    "## Data Type Validation"
   ]
  },
  {
   "cell_type": "markdown",
   "id": "eaac2b15-76db-4652-a044-5fe903d26dd0",
   "metadata": {},
   "source": []
  },
  {
   "cell_type": "markdown",
   "id": "6b27914f-fd43-49a3-87e0-3fa84b4f2082",
   "metadata": {},
   "source": []
  }
 ],
 "metadata": {
  "kernelspec": {
   "display_name": "Python 3 (ipykernel)",
   "language": "python",
   "name": "python3"
  },
  "language_info": {
   "codemirror_mode": {
    "name": "ipython",
    "version": 3
   },
   "file_extension": ".py",
   "mimetype": "text/x-python",
   "name": "python",
   "nbconvert_exporter": "python",
   "pygments_lexer": "ipython3",
   "version": "3.9.12"
  }
 },
 "nbformat": 4,
 "nbformat_minor": 5
}
