{
 "cells": [
  {
   "cell_type": "markdown",
   "id": "3fb007f8-604a-4618-a452-31ddf32a2c5b",
   "metadata": {},
   "source": [
    "# 2.1 - Explain data acquisition concepts."
   ]
  },
  {
   "cell_type": "markdown",
   "id": "3ce429c0-9eaa-49e9-a0b1-cef1503f9ee9",
   "metadata": {
    "tags": []
   },
   "source": [
    "## Integration"
   ]
  },
  {
   "cell_type": "markdown",
   "id": "644d2abf-f965-4931-b6be-04a0ec77c0e3",
   "metadata": {},
   "source": [
    "Data needs to be brought into a standard format so that we can work with it; this process is known as Integration."
   ]
  },
  {
   "cell_type": "markdown",
   "id": "e968911e-d71b-4740-b27e-63b59d69a704",
   "metadata": {
    "tags": []
   },
   "source": [
    "### Extract, Transform, Load (ETL)"
   ]
  },
  {
   "cell_type": "markdown",
   "id": "8af16fd3-d92e-4138-baab-7a17cfc365fd",
   "metadata": {},
   "source": [
    "1. Extract data; grab data from our source (i.e., a CSV file).\n",
    "2. Preform transformaion on data. \n",
    "    - Program that will format our data in a suitable way for us to work with.\n",
    "    - This would be done on a separate server from our Data Warehouse.\n",
    "3. Load data into Warehouse, where we will perform analysis. "
   ]
  },
  {
   "cell_type": "markdown",
   "id": "8efb7247-7946-496b-8a51-cd309333e94c",
   "metadata": {},
   "source": [
    "#### Drawbacks\n",
    "- Server Maintainance costs. \n",
    "- Takes a lot of time, not suitable for large data sets. \n",
    "- Good for receiving readily available data. "
   ]
  },
  {
   "cell_type": "markdown",
   "id": "332f0144-33d5-4c13-b4d7-eb96825e98ba",
   "metadata": {},
   "source": [
    "### Extract, Load, Transfrom (ELT)"
   ]
  },
  {
   "cell_type": "markdown",
   "id": "439cbbd4-6372-45bd-8442-17a07cbf93d7",
   "metadata": {},
   "source": [
    "1. Extract data; grab data from our source (i.e., a CSV file).\n",
    "2. Load data into Warehouse, where we will perform analysis. \n",
    "    - This will be done in our Warehouse (like in a helper table).\n",
    "    - Raw data is being stored in the Warehouse\n",
    "3. Perform transformation on data for analysis."
   ]
  },
  {
   "cell_type": "markdown",
   "id": "6cce6c72-b278-4dc3-93e4-4618712494ec",
   "metadata": {},
   "source": [
    "#### Benifits\n",
    "- More control over our data\n",
    "- No server costs\n",
    "- Storage happens in our Warehouse\n",
    "- Immediately able to access data. \n",
    "\n",
    "#### Drawbacks\n",
    "- Additional work needs to be done in the Warehosue. "
   ]
  },
  {
   "cell_type": "markdown",
   "id": "17ce85b4-6760-438d-a5c1-f0d53a9852fe",
   "metadata": {},
   "source": [
    "### Delta Load"
   ]
  },
  {
   "cell_type": "markdown",
   "id": "85772457-68d0-45e8-81f9-f5e60f5b548b",
   "metadata": {},
   "source": [
    "Process of pulling only new data into our Warehouse."
   ]
  },
  {
   "cell_type": "markdown",
   "id": "96fbee3f-baeb-42ff-a560-d56d0edd7aa3",
   "metadata": {},
   "source": [
    "- Perform a series of checks to see if new data is already in the warehouse. \n",
    "- Instead of pulling the entire file, we just pull the new data. \n",
    "- Ensures that we don't waste time performing operations that have already been performed before. "
   ]
  },
  {
   "cell_type": "markdown",
   "id": "632c77a4-bd92-4a8e-8bc7-a97bbbec9485",
   "metadata": {},
   "source": [
    "### Application Programing Interfaces (APIs)"
   ]
  },
  {
   "cell_type": "markdown",
   "id": "0bcdc7a2-13c7-4314-a3c9-7fcb10e0a64b",
   "metadata": {},
   "source": [
    "Integrate apps with other apps without knowing the definition (how the system was ipleminted) of other apps. "
   ]
  },
  {
   "cell_type": "markdown",
   "id": "eb29f879-1154-4a18-922b-4ae2ab678661",
   "metadata": {},
   "source": [
    "#### Think of a shopping app and making purchaes on said app. \n",
    "- The shopping app will need to access your bank to be able to process transactions. \n",
    "- The shopping app has asked the banks for access to their APIs\n",
    "    - These APIs provide the shopping app with instructions on how to get data from their app.\n",
    "    - This does not provide the shopping app with any information on the structure of the bank app. \n",
    "- This process allows the shopping app to use the bank API to collect the needed information to perform transactions securely."
   ]
  },
  {
   "cell_type": "markdown",
   "id": "522a2ece-b97a-42b3-91b7-907f2dbc43c7",
   "metadata": {},
   "source": [
    "#### Important requirments of an API\n",
    "\n",
    "- Precise Documentation\n",
    "    - This needs to be able to provide the information we need to use the API.\n",
    "- Clear Terms and Conditions\n",
    "    - A lot of data is being transferred from both sides.\n",
    "    - This sets how the API can be used and what we can and can't do. \n",
    "    - Helps prevent data leaks. "
   ]
  },
  {
   "cell_type": "markdown",
   "id": "52ad193a-61eb-46a9-ad4f-80d0944899a5",
   "metadata": {},
   "source": [
    "## Data Collection Methods"
   ]
  },
  {
   "cell_type": "markdown",
   "id": "5c97fd04-adce-4256-9ed6-3a7dde61af03",
   "metadata": {},
   "source": [
    "### Web scraping"
   ]
  },
  {
   "cell_type": "markdown",
   "id": "ab190ea9-48db-413b-8839-818883f5cee0",
   "metadata": {},
   "source": [
    "The process of extracting data from a web site using the sites HTML.\n",
    "\n",
    "Think an ebay GPU price tracker.\n",
    "\n",
    "- Using web scraping we are able to get just about an information we desire from a web site. \n",
    "    - We must explore the sites HTML and determine which tags we will be looking for.\n",
    "    - We can than scrape the page for those tags and pull the inforamtion stored in them.\n",
    "- Often sites have bot protection that can stop web scraping.\n",
    "- Scraping makes calls the the site, excessive scraping will often get the IP of the scrappee blocked on said site. "
   ]
  },
  {
   "cell_type": "markdown",
   "id": "ff497d8f-bcee-42de-8f79-19f173d5b826",
   "metadata": {
    "tags": []
   },
   "source": [
    "### Public databases"
   ]
  },
  {
   "cell_type": "markdown",
   "id": "d0873305-beee-451e-bbd9-e4c0eec582a9",
   "metadata": {},
   "source": [
    "Another database that we are allow access to so that we can work with the stored data. \n",
    "\n",
    "Think Aligulac.\n",
    "\n",
    "- The public is able to submit data into the database (usually requiring approval of some kind)\n",
    "    - Data is integrated into a common format and submitted into the database.\n",
    "- The public is allowed to access this database and all the data inside."
   ]
  },
  {
   "cell_type": "markdown",
   "id": "50cec49c-2ae1-4b8c-b713-5dc4e6a28b72",
   "metadata": {
    "tags": []
   },
   "source": [
    "### Application programming interface (API)/web services"
   ]
  },
  {
   "cell_type": "markdown",
   "id": "c52d68c7-8425-43a2-bf2f-e0027d1528cb",
   "metadata": {},
   "source": [
    "Integrate apps with other apps without knowing the definition (how the system was ipleminted) of other apps.\n",
    "\n",
    "Think of a shopping app and making purchaes on said app.\n",
    "\n",
    "- The shopping app will need to access your bank to be able to process transactions.\n",
    "- The shopping app has asked the banks for access to their APIs\n",
    "    - These APIs provide the shopping app with instructions on how to get data from their app.\n",
    "    - This does not provide the shopping app with any information on the structure of the bank app.\n",
    "- This process allows the shopping app to use the bank API to collect the needed information to perform transactions securely."
   ]
  },
  {
   "cell_type": "markdown",
   "id": "eda42748-e166-4f33-a25c-174ff583e21f",
   "metadata": {},
   "source": [
    "### Survey"
   ]
  },
  {
   "cell_type": "markdown",
   "id": "9ae175ce-7f05-438b-94ad-82d56e228483",
   "metadata": {},
   "source": [
    "The process of reaching out to the public and having them fill out a questionaire to collect data.\n",
    "\n",
    "- This is a good way of collecting data from a group of people that you may not otherwise be able to gather spsefic data on. \n",
    "- Be wary when using survey data, as it in prone to biasis.\n",
    "    - Only a certian group may respond to your surveys, skewing data.\n",
    "    - There is no way to determine what factors are playing into the data that is being provided. "
   ]
  },
  {
   "cell_type": "markdown",
   "id": "d3652dd7-757a-465c-82a2-8bba0dd662c5",
   "metadata": {
    "tags": []
   },
   "source": [
    "### Sampling"
   ]
  },
  {
   "cell_type": "markdown",
   "id": "37a8446d-5f88-4ec6-b0f6-fac4ed9ca765",
   "metadata": {},
   "source": [
    "Taking a large data set (population) of many points and taking a small portion of the data and preforming analysis on that smaller set (sample).\n",
    "\n",
    "- You must get sample in the best possible way, ensure that it properly represents the population.\n",
    "    - Preforming analysis on sample, yeilds same results as population.\n",
    "- Saves time and resources."
   ]
  },
  {
   "cell_type": "markdown",
   "id": "b0b03179-d673-4f73-8bf1-8e58244bb365",
   "metadata": {
    "tags": []
   },
   "source": [
    "#### Non-Probabilistic \n",
    "\n",
    "NO RANDOMNESS\n",
    "\n",
    "This is often times not the best approach and we will almost always get better results with random sampling."
   ]
  },
  {
   "cell_type": "markdown",
   "id": "e4aeab33-c6c1-4bdb-bfec-f7ff5fa23a9c",
   "metadata": {},
   "source": [
    "##### Convenience Sampling\n",
    "\n",
    "Sampling the 'closest' data in our population.\n",
    "\n",
    "Think of preforming analysis on towns, but only the surronding towns.\n",
    "\n",
    "- Easy and fast way to analyze data.\n",
    "- Not reliable as we cannot garentee the closest data is all relevent.\n",
    "- Not preforming and large caluations as this data cannot always be reliable. "
   ]
  },
  {
   "cell_type": "markdown",
   "id": "ff02ffbe-11c8-4d5d-b976-72484ffca349",
   "metadata": {},
   "source": [
    "##### Voluntary Response Sampling\n",
    "\n",
    "Think Surveys!\n",
    "\n",
    "- We are unable to control who will respond to our surveys. \n",
    "- We may collect data from just one group of people.\n",
    "- or someone may not provide accurate information in a survey. "
   ]
  },
  {
   "cell_type": "markdown",
   "id": "ffff5494-64bd-483d-b6b1-39aaf4022756",
   "metadata": {},
   "source": [
    "##### Purpsosive Sampling\n",
    "\n",
    "Intenionally sampling on a certian chunk of data. \n",
    "\n",
    "- We can use data gained from a survey to target further analysis.\n",
    "    - For example, if we only whish to know what dentist think of toothpaste, we wouln't analyze what writers think of it. \n",
    "    - Here we can apply a second layer of sampling to refine our data more from this point.\n",
    "        - What do dentiset on the west cost think?"
   ]
  },
  {
   "cell_type": "markdown",
   "id": "b5c91f0d-3ed9-4d5e-9bf4-86b4ac28bbe7",
   "metadata": {},
   "source": [
    "##### Snowball Sampling\n",
    "\n",
    "Using knowlage gained from our current data to gain more.\n",
    "\n",
    "Think reffurals.\n",
    "\n",
    "- We have the zip of one customer who refers another customer.\n",
    "    - We now how a new customer who we can collect data from and can lead us to a new one. \n",
    "- Slowly the data builds overtime until we have a good data set to work with. "
   ]
  },
  {
   "cell_type": "markdown",
   "id": "45ec52a4-25bb-43b9-bb92-62e5d2e1a1ad",
   "metadata": {},
   "source": [
    "#### Probabilistic "
   ]
  },
  {
   "cell_type": "markdown",
   "id": "7ca8915f-4ce6-4811-92d3-649c8f20590d",
   "metadata": {},
   "source": [
    "##### Simple Random Sampling\n",
    "\n",
    "Grab a set number of elements from our population, randomly. \n",
    "\n",
    "- Analysis show this is a good way to sample population.\n",
    "- In most cases random sampling is able to grap all required information from data. "
   ]
  },
  {
   "cell_type": "markdown",
   "id": "53a66b7d-ad4f-4904-b119-e08a9d088957",
   "metadata": {},
   "source": [
    "##### Systematic Sampling\n",
    "\n",
    "Randomly select a starting point from our data, then select the rest of data incrementally.\n",
    "\n",
    "- Your increment must be selected carefully so that no required information is missed.\n",
    "    - Distrubting our data properly will avoid missing required points. "
   ]
  },
  {
   "cell_type": "markdown",
   "id": "1217c5bb-8809-409f-921e-390f221c8d74",
   "metadata": {},
   "source": [
    "##### Stratified Sampling\n",
    "\n",
    "Using mathmatical analysis to build our sample. \n",
    "\n",
    "- Group data points by required information.\n",
    "- Analyze groups and their total portion of the data. \n",
    "- Build smaller data set following portions from population."
   ]
  },
  {
   "cell_type": "markdown",
   "id": "e833e5ec-dc00-4347-bc7b-791e9bf4db9a",
   "metadata": {},
   "source": [
    "##### Cluster Sampling\n",
    "\n",
    "Splitting the entire population into smaller clusters and preforming analysis on those clusters.\n",
    "\n",
    "- Analyzing the smaller subsets is faster and more effecient. \n",
    "- We then later combine our results form all clusters. "
   ]
  },
  {
   "cell_type": "markdown",
   "id": "15039b3a-496d-4df6-b096-b7592fdc5fa2",
   "metadata": {
    "tags": []
   },
   "source": [
    "### Observation"
   ]
  },
  {
   "cell_type": "markdown",
   "id": "6c221a13-cf06-456b-b1e6-bc0ea5c6fe0e",
   "metadata": {},
   "source": [
    "In statistics, an observation is simply one occurrence of something you’re measuring.\n",
    "\n",
    "For example, suppose you’re measuring the weight of a certain species of turtle. Each turtle that you collect the weight for counts as one single observation."
   ]
  },
  {
   "cell_type": "code",
   "execution_count": null,
   "id": "cf85dc09-ca5b-4629-a9fd-2c5cb8f5195b",
   "metadata": {},
   "outputs": [],
   "source": []
  }
 ],
 "metadata": {
  "kernelspec": {
   "display_name": "Python 3 (ipykernel)",
   "language": "python",
   "name": "python3"
  },
  "language_info": {
   "codemirror_mode": {
    "name": "ipython",
    "version": 3
   },
   "file_extension": ".py",
   "mimetype": "text/x-python",
   "name": "python",
   "nbconvert_exporter": "python",
   "pygments_lexer": "ipython3",
   "version": "3.9.12"
  }
 },
 "nbformat": 4,
 "nbformat_minor": 5
}
