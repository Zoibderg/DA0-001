{
 "cells": [
  {
   "cell_type": "markdown",
   "id": "3fb007f8-604a-4618-a452-31ddf32a2c5b",
   "metadata": {},
   "source": [
    "# 2.1 - Explain data acquisition concepts."
   ]
  },
  {
   "cell_type": "markdown",
   "id": "3ce429c0-9eaa-49e9-a0b1-cef1503f9ee9",
   "metadata": {
    "tags": []
   },
   "source": [
    "## Integration"
   ]
  },
  {
   "cell_type": "markdown",
   "id": "644d2abf-f965-4931-b6be-04a0ec77c0e3",
   "metadata": {},
   "source": [
    "Data needs to be brought into a standard format so that we can work with it; this process is known as Integration."
   ]
  },
  {
   "cell_type": "markdown",
   "id": "e968911e-d71b-4740-b27e-63b59d69a704",
   "metadata": {
    "tags": []
   },
   "source": [
    "### Extract, Transform, Load (ETL)"
   ]
  },
  {
   "cell_type": "markdown",
   "id": "8af16fd3-d92e-4138-baab-7a17cfc365fd",
   "metadata": {},
   "source": [
    "1. Extract data; grab data from our source (i.e., a CSV file).\n",
    "2. Preform transformaion on data. \n",
    "    - Program that will format our data in a suitable way for us to work with.\n",
    "    - This would be done on a separate server from our Data Warehouse.\n",
    "3. Load data into Warehouse, where we will perform analysis. "
   ]
  },
  {
   "cell_type": "markdown",
   "id": "8efb7247-7946-496b-8a51-cd309333e94c",
   "metadata": {},
   "source": [
    "#### Drawbacks\n",
    "- Server Maintainance costs. \n",
    "- Takes a lot of time, not suitable for large data sets. \n",
    "- Good for receiving readily available data. "
   ]
  },
  {
   "cell_type": "markdown",
   "id": "332f0144-33d5-4c13-b4d7-eb96825e98ba",
   "metadata": {},
   "source": [
    "### Extract, Load, Transfrom (ELT)"
   ]
  },
  {
   "cell_type": "markdown",
   "id": "439cbbd4-6372-45bd-8442-17a07cbf93d7",
   "metadata": {},
   "source": [
    "1. Extract data; grab data from our source (i.e., a CSV file).\n",
    "2. Load data into Warehouse, where we will perform analysis. \n",
    "    - This will be done in our Warehouse (like in a helper table).\n",
    "    - Raw data is being stored in the Warehouse\n",
    "3. Perform transformation on data for analysis."
   ]
  },
  {
   "cell_type": "markdown",
   "id": "6cce6c72-b278-4dc3-93e4-4618712494ec",
   "metadata": {},
   "source": [
    "#### Benifits\n",
    "- More control over our data\n",
    "- No server costs\n",
    "- Storage happens in our Warehouse\n",
    "- Immediately able to access data. \n",
    "\n",
    "#### Drawbacks\n",
    "- Additional work needs to be done in the Warehosue. "
   ]
  },
  {
   "cell_type": "markdown",
   "id": "17ce85b4-6760-438d-a5c1-f0d53a9852fe",
   "metadata": {},
   "source": [
    "### Delta Load"
   ]
  },
  {
   "cell_type": "markdown",
   "id": "85772457-68d0-45e8-81f9-f5e60f5b548b",
   "metadata": {},
   "source": [
    "Process of pulling only new data into our Warehouse."
   ]
  },
  {
   "cell_type": "markdown",
   "id": "96fbee3f-baeb-42ff-a560-d56d0edd7aa3",
   "metadata": {},
   "source": [
    "- Perform a series of checks to see if new data is already in the warehouse. \n",
    "- Instead of pulling the entire file, we just pull the new data. \n",
    "- Ensures that we don't waste time performing operations that have already been performed before. "
   ]
  },
  {
   "cell_type": "markdown",
   "id": "632c77a4-bd92-4a8e-8bc7-a97bbbec9485",
   "metadata": {},
   "source": [
    "### Application Programing Interfaces (APIs)"
   ]
  },
  {
   "cell_type": "markdown",
   "id": "0bcdc7a2-13c7-4314-a3c9-7fcb10e0a64b",
   "metadata": {},
   "source": [
    "Integrate apps with other apps without knowing the definition (how the system was ipleminted) of other apps. "
   ]
  },
  {
   "cell_type": "markdown",
   "id": "eb29f879-1154-4a18-922b-4ae2ab678661",
   "metadata": {},
   "source": [
    "#### Think of a shopping app and making purchaes on said app. \n",
    "- The shopping app will need to access your bank to be able to process transactions. \n",
    "- The shopping app has asked the banks for access to their APIs\n",
    "    - These APIs provide the shopping app with instructions on how to get data from their app.\n",
    "    - This does not provide the shopping app with any information on the structure of the bank app. \n",
    "- This process allows the shopping app to use the bank API to collect the needed information to perform transactions securely."
   ]
  },
  {
   "cell_type": "markdown",
   "id": "522a2ece-b97a-42b3-91b7-907f2dbc43c7",
   "metadata": {},
   "source": [
    "#### Important requirments of an API\n",
    "\n",
    "- Precise Documentation\n",
    "    - This needs to be able to provide the information we need to use the API.\n",
    "- Clear Terms and Conditions\n",
    "    - A lot of data is being transferred from both sides.\n",
    "    - This sets how the API can be used and what we can and can't do. \n",
    "    - Helps prevent data leaks. "
   ]
  },
  {
   "cell_type": "code",
   "execution_count": null,
   "id": "154bef4b-7cae-4a35-92c5-06f094577839",
   "metadata": {},
   "outputs": [],
   "source": []
  }
 ],
 "metadata": {
  "kernelspec": {
   "display_name": "Python 3 (ipykernel)",
   "language": "python",
   "name": "python3"
  },
  "language_info": {
   "codemirror_mode": {
    "name": "ipython",
    "version": 3
   },
   "file_extension": ".py",
   "mimetype": "text/x-python",
   "name": "python",
   "nbconvert_exporter": "python",
   "pygments_lexer": "ipython3",
   "version": "3.9.12"
  }
 },
 "nbformat": 4,
 "nbformat_minor": 5
}
