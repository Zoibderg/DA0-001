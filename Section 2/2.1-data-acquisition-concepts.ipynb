{
 "cells": [
  {
   "cell_type": "markdown",
   "id": "3fb007f8-604a-4618-a452-31ddf32a2c5b",
   "metadata": {},
   "source": [
    "# 2.1 - Explain data acquisition concepts."
   ]
  },
  {
   "cell_type": "markdown",
   "id": "3ce429c0-9eaa-49e9-a0b1-cef1503f9ee9",
   "metadata": {
    "tags": []
   },
   "source": [
    "## Integration"
   ]
  },
  {
   "cell_type": "code",
   "execution_count": null,
   "id": "1f998976-ff5c-4a0c-8529-5db73ebde360",
   "metadata": {},
   "outputs": [],
   "source": []
  },
  {
   "cell_type": "markdown",
   "id": "e968911e-d71b-4740-b27e-63b59d69a704",
   "metadata": {
    "tags": []
   },
   "source": [
    "### Extract, Transform, Load (ETL)"
   ]
  },
  {
   "cell_type": "code",
   "execution_count": null,
   "id": "506c1bcc-7e25-4773-8a9c-de926bb4c959",
   "metadata": {},
   "outputs": [],
   "source": []
  },
  {
   "cell_type": "code",
   "execution_count": null,
   "id": "1519fe45-4f68-4a76-93da-aeebea27c21d",
   "metadata": {},
   "outputs": [],
   "source": []
  },
  {
   "cell_type": "markdown",
   "id": "332f0144-33d5-4c13-b4d7-eb96825e98ba",
   "metadata": {},
   "source": [
    "### Extract, Load, Transfrom (ELT)"
   ]
  },
  {
   "cell_type": "code",
   "execution_count": null,
   "id": "84c14d04-6fb7-4703-8ae0-2fde96a7b06d",
   "metadata": {},
   "outputs": [],
   "source": []
  },
  {
   "cell_type": "code",
   "execution_count": null,
   "id": "f4ee01f7-8d04-47de-8ab3-b4fadc5a8952",
   "metadata": {},
   "outputs": [],
   "source": []
  },
  {
   "cell_type": "markdown",
   "id": "17ce85b4-6760-438d-a5c1-f0d53a9852fe",
   "metadata": {},
   "source": [
    "### Delta Load"
   ]
  },
  {
   "cell_type": "code",
   "execution_count": null,
   "id": "80ed5684-9a56-48d2-b07d-6d310b1bd0b1",
   "metadata": {},
   "outputs": [],
   "source": []
  },
  {
   "cell_type": "code",
   "execution_count": null,
   "id": "9bbf8405-aab8-4a26-a501-6d1176e7af54",
   "metadata": {},
   "outputs": [],
   "source": []
  },
  {
   "cell_type": "markdown",
   "id": "632c77a4-bd92-4a8e-8bc7-a97bbbec9485",
   "metadata": {},
   "source": [
    "### Application Programing Interfaces (APIs)"
   ]
  },
  {
   "cell_type": "code",
   "execution_count": null,
   "id": "5400a750-746f-4d88-850c-8954583a86b8",
   "metadata": {},
   "outputs": [],
   "source": []
  },
  {
   "cell_type": "code",
   "execution_count": null,
   "id": "d54dac1a-9e42-46d4-9943-765a07f42640",
   "metadata": {},
   "outputs": [],
   "source": []
  }
 ],
 "metadata": {
  "kernelspec": {
   "display_name": "Python 3 (ipykernel)",
   "language": "python",
   "name": "python3"
  },
  "language_info": {
   "codemirror_mode": {
    "name": "ipython",
    "version": 3
   },
   "file_extension": ".py",
   "mimetype": "text/x-python",
   "name": "python",
   "nbconvert_exporter": "python",
   "pygments_lexer": "ipython3",
   "version": "3.9.12"
  }
 },
 "nbformat": 4,
 "nbformat_minor": 5
}
