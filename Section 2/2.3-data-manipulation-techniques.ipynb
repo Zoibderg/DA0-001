{
 "cells": [
  {
   "cell_type": "markdown",
   "id": "2b833fa4-cb32-4798-8ade-9cd8fa308d6f",
   "metadata": {},
   "source": [
    "# 2.3 - Given a scenario, execute data manipulation techniques"
   ]
  },
  {
   "cell_type": "markdown",
   "id": "c55269e9-dd65-456e-b627-d6884b740aa4",
   "metadata": {},
   "source": [
    "## Recoding data"
   ]
  },
  {
   "cell_type": "markdown",
   "id": "e6ae2b3b-f1df-4773-b92e-f1a65b23ff69",
   "metadata": {},
   "source": [
    "Recoding into a different variable transforms an original variable into a new variable. That is, the changes do not overwrite the original variable; they are instead applied to a copy of the original variable under a new name.\n",
    "\n",
    "For example, if we had a table full of customers and their information (such as age) and we wanted to group those people by age groups, we would recode the age data in a new column the insted but people in a spefic group based on their age. \n",
    "\n",
    "| ID | Name | Age |\n",
    "| -- | ---- | --- | \n",
    "| 01 | Mark | 50 |\n",
    "| 02 | James | 22 |\n",
    "| 03 | Joe | 21 |\n",
    "| 04 | Tim | 65 |\n",
    "| 05 | Jolyeen | 22 |\n",
    "| 06 | Mary | 23 |\n",
    "\n",
    "#### Recoded table:\n",
    "\n",
    "| ID | Name | Age | Age Group |\n",
    "| -- | ---- | --- | --------- |\n",
    "| 01 | Mark | 50 | 50 - 60 |\n",
    "| 02 | James | 22 | 21 - 30 |\n",
    "| 03 | Joe | 21 | 21 - 30 |\n",
    "| 04 | Tim | 65 | 65+ |\n",
    "| 05 | Jolyeen | 22 | 21 - 30|\n",
    "| 06 | Mary | 23 | 21 - 30 |"
   ]
  },
  {
   "cell_type": "markdown",
   "id": "5d5b58b1-e672-47c5-bb85-e2856d70410e",
   "metadata": {
    "tags": []
   },
   "source": [
    "## Derived variables "
   ]
  },
  {
   "cell_type": "markdown",
   "id": "8314f548-f655-40f4-8f05-9615800fc3a6",
   "metadata": {},
   "source": [
    "Variables that are created from other variables using an expression. For example, you might create a numeric derived variable to show the sum of the values stored in two or more other numeric variables. Think of our above example, our age groups would be a derived variable. "
   ]
  },
  {
   "cell_type": "markdown",
   "id": "210d7a98-f225-450c-91db-dffe393b18b4",
   "metadata": {},
   "source": [
    "There are two varieties of derived variables:\n",
    "\n",
    "- **Dynamically derived variables**: These are defined in the metadata only and do not actually exist in the case data. After they have been defined in the metadata, they can be queried through the Case Data Model just like any other variable, but the return values are calculated “on the fly”.\n",
    "- **Persisted derived variables**: These are derived variables whose results have been permanently written into the case data.\n",
    "\n",
    "In normal practice you will usually be using dynamically derived variables as these will not continue to be stored in the tabels and saves memory."
   ]
  },
  {
   "cell_type": "markdown",
   "id": "442e8ed1-2c36-4f14-bd62-d8a3174e357c",
   "metadata": {},
   "source": [
    "## Data merge / Data blending"
   ]
  },
  {
   "cell_type": "markdown",
   "id": "1fc5b620-1565-4ab3-ada2-95b37a793dc0",
   "metadata": {},
   "source": [
    "Data merging OR blending is the process of combining two or more similar records into a single one. Merging is done to add variables to a dataset, append or add cases or observations to a dataset, or remove duplicates and other incorrect information.\n",
    "\n",
    "Done correctly, this process makes it easier and faster to analyze data stored in multiple locations, worksheets, or data tables. Merging data into a single point is necessary in certain situations, especially when an organization needs to add new cases, variables, or data based on the lookup values. However, data merging needs to be performed with caution; otherwise, it can lead to duplication, inaccuracy, or inconsistency issues.\n",
    "\n",
    "Essentily, this is the process of taking data from mulitple different sources and putting them all into one table, source, database, etc. "
   ]
  },
  {
   "cell_type": "markdown",
   "id": "c2f54a20-cd3c-4767-bbe1-9b482fc775a0",
   "metadata": {},
   "source": [
    "## Concatenation "
   ]
  },
  {
   "cell_type": "markdown",
   "id": "c6b613c6-b0df-4de3-a45f-5f7a0d8dd92b",
   "metadata": {},
   "source": [
    "This is just the act of linking things together. For instance, taking informtion from multiple columns and putting them in a new column. For example, lets look at our table of people again, but this time, lets look at first and last names instead of ages. "
   ]
  },
  {
   "cell_type": "markdown",
   "id": "a8fa3ebe-f39b-4b86-acc8-25d20bc06b67",
   "metadata": {},
   "source": [
    "| ID | Name | Surname |\n",
    "| -- | ---- | --- | \n",
    "| 01 | Mark | James |\n",
    "| 02 | James | Willow |\n",
    "| 03 | Joe | Smhoe |\n",
    "| 04 | Tim | Burton |\n",
    "| 05 | Jolyeen | Winter |\n",
    "| 06 | Mary | Poppins |\n",
    "\n",
    "After concatenation our table would be as follows:\n",
    "\n",
    "| ID | Name | Surname | Full Name |\n",
    "| -- | ---- | --- | -------|\n",
    "| 01 | Mark | James | Mark James |\n",
    "| 02 | James | Willow | James Willow |\n",
    "| 03 | Joe | Smhoe | Joe Smhoe |\n",
    "| 04 | Tim | Burton | Tim Burton |\n",
    "| 05 | Jolyeen | Winter | Jolyeen Winter |\n",
    "| 06 | Mary | Poppins | Mary Poppins |"
   ]
  },
  {
   "cell_type": "markdown",
   "id": "50afbfb2-bddf-42d7-9f6f-22d54c7bb8e8",
   "metadata": {},
   "source": [
    "## Data append"
   ]
  },
  {
   "cell_type": "markdown",
   "id": "87400e88-b93a-400f-a7d6-9f155a1c79e5",
   "metadata": {},
   "source": [
    "As expected a data append is a process that involves adding new data elements to an existing database. An example of a common data append would be the enhancement of a company's customer files. Simply put, this is just adding new data into our database."
   ]
  },
  {
   "cell_type": "markdown",
   "id": "087d4947-d4ec-4c5d-a38e-5e3be3f55774",
   "metadata": {},
   "source": [
    "## Imputation"
   ]
  },
  {
   "cell_type": "markdown",
   "id": "470fb50a-a468-446e-95d6-810ceb6d7b6b",
   "metadata": {},
   "source": [
    "The substitution of estimated values for missing or inconsistent data items (fields). The substituted values are intended to create a data record that does not fail edits.\n",
    "\n",
    "Think back to when we were going over data cleansing;\n",
    "\n",
    "- **Mean**\n",
    "    - the average of the numbers: a calculated \"central\" value of a set of numbers\n",
    "- **Meadian**\n",
    "    - the \"middle\" of a sorted list of numbers\n",
    "- **Mode**\n",
    "    - the most frequent number—-that is, the number that occurs the highest number of times.\n",
    "- **LOCF (last object carried forward) & NOCB (next object carried back)**\n",
    "    - the process of carriing either the last or next object into our missing value\n",
    "- **Linear interpolation (machine learning)**\n",
    "    - using other data values to calculate the missing value\n",
    "- **K neareast neighbors**\n",
    "    - using the similar neighbors to inffer what the missing value likely is. "
   ]
  },
  {
   "cell_type": "markdown",
   "id": "57d3524e-045a-4605-ab30-bb9c574c03ab",
   "metadata": {},
   "source": [
    "## Reduction/aggregation"
   ]
  },
  {
   "cell_type": "markdown",
   "id": "03df6f9d-3843-427b-a29a-61c8a17b8c6a",
   "metadata": {},
   "source": [
    "The transformation of numerical or alphabetical digital information derived empirically or experimentally into a corrected, ordered, and simplified form. In simple terms, it simply means large amounts of data are cleaned, organized and categorized based on prerequisite criteria to help in driving business decisions. "
   ]
  },
  {
   "cell_type": "markdown",
   "id": "cc7b4b15-a552-4147-b225-7fff5e600461",
   "metadata": {},
   "source": [
    "## Transpose"
   ]
  },
  {
   "cell_type": "markdown",
   "id": "123bb8dc-08a0-4964-b210-bf05190862ed",
   "metadata": {},
   "source": [
    "Creates a new data file in which the rows and columns in the original data file are transposed so that cases (rows) become variables and variables (columns) become cases.\n",
    "\n",
    "Lets look at a table of quartly sales.\n",
    "\n",
    "| Sales by Region | Europe | Asia | North America |\n",
    "| --------------- | ------ | ---- | ------------- |\n",
    "| Qtr 1 | 21,704,714 | 8,774,099 | 12,094,215 |\n",
    "| Qtr 2 | 17,987,034 | 12,214,447 | 10,873,099 |\n",
    "| Qtr 3 | 19,485,029 | 14,356,879 | 15,689,543 |\n",
    "| Qtr 4 | 22,567,894 | 15,763,492 | 17,456,723 |\n",
    "\n",
    "Transposing this table would simply \"flip\" it.\n",
    "\n",
    "| Sales by Region | Qtr 1 | Qtr 2 | Qtr 3 | Qtr 4 |\n",
    "| --------------- | ----- | ----- | ----- | ----- |\n",
    "| Europe | 21,704,714 | 17,987,034 | 19,485,029 | 22,567,894 |\n",
    "| Asia | 8,774,099 | 12,214,447 | 14,356,879 | 15,763,492 |\n",
    "| North America | 12,094,215 | 10,873,099 | 15,689,543 | 17,456,723"
   ]
  },
  {
   "cell_type": "markdown",
   "id": "4fcec8ee-cc1a-491c-b0ae-a3fd263765eb",
   "metadata": {},
   "source": [
    "## Normalize data"
   ]
  },
  {
   "cell_type": "markdown",
   "id": "cb62cc9e-9cf9-4d14-ae19-4add4199e221",
   "metadata": {},
   "source": [
    "In the simplest cases, normalization of ratings means adjusting values measured on different scales to a notionally common scale, often prior to averaging. In more complicated cases, normalization may refer to more sophisticated adjustments where the intention is to bring the entire probability distributions of adjusted values into alignment."
   ]
  },
  {
   "cell_type": "code",
   "execution_count": null,
   "id": "cfd7b335-2d26-4c41-b6a2-84d6c9125654",
   "metadata": {},
   "outputs": [],
   "source": []
  },
  {
   "cell_type": "markdown",
   "id": "573b4bbd-aba9-46a5-a418-768de9b56323",
   "metadata": {},
   "source": [
    "## Parsing/string manipulation"
   ]
  },
  {
   "cell_type": "code",
   "execution_count": null,
   "id": "23c91f7c-134b-4fcb-a9ee-2c6d9f3c178f",
   "metadata": {},
   "outputs": [],
   "source": []
  },
  {
   "cell_type": "code",
   "execution_count": null,
   "id": "413dcd26-9a76-49da-a835-7d81ae226d01",
   "metadata": {},
   "outputs": [],
   "source": []
  }
 ],
 "metadata": {
  "kernelspec": {
   "display_name": "Python 3 (ipykernel)",
   "language": "python",
   "name": "python3"
  },
  "language_info": {
   "codemirror_mode": {
    "name": "ipython",
    "version": 3
   },
   "file_extension": ".py",
   "mimetype": "text/x-python",
   "name": "python",
   "nbconvert_exporter": "python",
   "pygments_lexer": "ipython3",
   "version": "3.9.12"
  }
 },
 "nbformat": 4,
 "nbformat_minor": 5
}
