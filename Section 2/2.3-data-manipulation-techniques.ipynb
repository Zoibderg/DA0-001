{
 "cells": [
  {
   "cell_type": "markdown",
   "id": "2b833fa4-cb32-4798-8ade-9cd8fa308d6f",
   "metadata": {},
   "source": [
    "# 2.3 - Given a scenario, execute data manipulation techniques"
   ]
  },
  {
   "cell_type": "markdown",
   "id": "c55269e9-dd65-456e-b627-d6884b740aa4",
   "metadata": {},
   "source": [
    "## Recoding data"
   ]
  },
  {
   "cell_type": "code",
   "execution_count": null,
   "id": "bbc80013-bcb1-45f8-a636-8cd207203b0c",
   "metadata": {},
   "outputs": [],
   "source": []
  },
  {
   "cell_type": "markdown",
   "id": "ddc01a33-eacf-44eb-a2b2-269e3688b319",
   "metadata": {},
   "source": [
    "### Numeric"
   ]
  },
  {
   "cell_type": "code",
   "execution_count": null,
   "id": "5400dfa4-4801-4301-872b-0436b66de68e",
   "metadata": {},
   "outputs": [],
   "source": []
  },
  {
   "cell_type": "markdown",
   "id": "6bff68e2-9b33-46e0-8508-e94c0f9cedff",
   "metadata": {},
   "source": [
    "### Categorical"
   ]
  },
  {
   "cell_type": "code",
   "execution_count": null,
   "id": "dfcf0de2-7d96-4747-a3b3-f1d85e0f1514",
   "metadata": {},
   "outputs": [],
   "source": []
  },
  {
   "cell_type": "markdown",
   "id": "5d5b58b1-e672-47c5-bb85-e2856d70410e",
   "metadata": {
    "tags": []
   },
   "source": [
    "## Derived variables "
   ]
  },
  {
   "cell_type": "code",
   "execution_count": null,
   "id": "56151a5f-8700-4348-8575-f447144a3936",
   "metadata": {},
   "outputs": [],
   "source": []
  },
  {
   "cell_type": "code",
   "execution_count": null,
   "id": "88066ac3-9609-4c9f-a890-ab7717ab90ae",
   "metadata": {},
   "outputs": [],
   "source": []
  },
  {
   "cell_type": "markdown",
   "id": "442e8ed1-2c36-4f14-bd62-d8a3174e357c",
   "metadata": {},
   "source": [
    "## Data merge"
   ]
  },
  {
   "cell_type": "code",
   "execution_count": null,
   "id": "83d01672-9a31-45f6-a76a-b4ad7ae46f74",
   "metadata": {},
   "outputs": [],
   "source": []
  },
  {
   "cell_type": "code",
   "execution_count": null,
   "id": "67acaf85-c3c5-4671-9feb-65507f062b4e",
   "metadata": {},
   "outputs": [],
   "source": []
  },
  {
   "cell_type": "markdown",
   "id": "b5c367ec-e0f0-45e9-b9c5-cdbb807ba14a",
   "metadata": {},
   "source": [
    "## Data blending "
   ]
  },
  {
   "cell_type": "code",
   "execution_count": null,
   "id": "922fe5df-730b-469e-afe9-fcdb6a960fd7",
   "metadata": {},
   "outputs": [],
   "source": []
  },
  {
   "cell_type": "code",
   "execution_count": null,
   "id": "7003b879-b283-4eee-a7a5-aa442220a9dd",
   "metadata": {},
   "outputs": [],
   "source": []
  },
  {
   "cell_type": "markdown",
   "id": "c2f54a20-cd3c-4767-bbe1-9b482fc775a0",
   "metadata": {},
   "source": [
    "## Concatenation "
   ]
  },
  {
   "cell_type": "code",
   "execution_count": null,
   "id": "cafd569c-fec6-4a00-a373-0af324b1c1b4",
   "metadata": {},
   "outputs": [],
   "source": []
  },
  {
   "cell_type": "code",
   "execution_count": null,
   "id": "dc68255b-f68a-4168-98e4-be8b94e4c45c",
   "metadata": {},
   "outputs": [],
   "source": []
  },
  {
   "cell_type": "markdown",
   "id": "50afbfb2-bddf-42d7-9f6f-22d54c7bb8e8",
   "metadata": {},
   "source": [
    "## Data append"
   ]
  },
  {
   "cell_type": "code",
   "execution_count": null,
   "id": "c3a81133-894a-4f64-8f60-7d90c42710dd",
   "metadata": {},
   "outputs": [],
   "source": []
  },
  {
   "cell_type": "code",
   "execution_count": null,
   "id": "815795da-146a-4a2b-a0ee-2485eeb64e35",
   "metadata": {},
   "outputs": [],
   "source": []
  },
  {
   "cell_type": "markdown",
   "id": "087d4947-d4ec-4c5d-a38e-5e3be3f55774",
   "metadata": {},
   "source": [
    "## Imputation"
   ]
  },
  {
   "cell_type": "code",
   "execution_count": null,
   "id": "18d1396c-8b96-405c-8ca0-a627ec888ea2",
   "metadata": {},
   "outputs": [],
   "source": []
  },
  {
   "cell_type": "code",
   "execution_count": null,
   "id": "832cf837-8fa2-4acc-9081-e8d4ceb67a39",
   "metadata": {},
   "outputs": [],
   "source": []
  },
  {
   "cell_type": "markdown",
   "id": "57d3524e-045a-4605-ab30-bb9c574c03ab",
   "metadata": {},
   "source": [
    "## Reduction/aggregation"
   ]
  },
  {
   "cell_type": "code",
   "execution_count": null,
   "id": "e32359d7-3faf-4edc-8411-7e9f5b9090f1",
   "metadata": {},
   "outputs": [],
   "source": []
  },
  {
   "cell_type": "code",
   "execution_count": null,
   "id": "bed52d20-5792-4411-90d3-ad2e3578224f",
   "metadata": {},
   "outputs": [],
   "source": []
  },
  {
   "cell_type": "markdown",
   "id": "cc7b4b15-a552-4147-b225-7fff5e600461",
   "metadata": {},
   "source": [
    "## Transpose"
   ]
  },
  {
   "cell_type": "code",
   "execution_count": null,
   "id": "df1c8289-36bc-4fca-9c21-5aabb0ac89ae",
   "metadata": {},
   "outputs": [],
   "source": []
  },
  {
   "cell_type": "code",
   "execution_count": null,
   "id": "73179435-cb81-46d9-ab44-94eff0a4a6ce",
   "metadata": {},
   "outputs": [],
   "source": []
  },
  {
   "cell_type": "markdown",
   "id": "4fcec8ee-cc1a-491c-b0ae-a3fd263765eb",
   "metadata": {},
   "source": [
    "## Normalize data"
   ]
  },
  {
   "cell_type": "code",
   "execution_count": null,
   "id": "6dc692b5-98fd-48a5-968e-4ae3649f18db",
   "metadata": {},
   "outputs": [],
   "source": []
  },
  {
   "cell_type": "code",
   "execution_count": null,
   "id": "cfd7b335-2d26-4c41-b6a2-84d6c9125654",
   "metadata": {},
   "outputs": [],
   "source": []
  },
  {
   "cell_type": "markdown",
   "id": "573b4bbd-aba9-46a5-a418-768de9b56323",
   "metadata": {},
   "source": [
    "## Parsing/string manipulation"
   ]
  },
  {
   "cell_type": "code",
   "execution_count": null,
   "id": "23c91f7c-134b-4fcb-a9ee-2c6d9f3c178f",
   "metadata": {},
   "outputs": [],
   "source": []
  },
  {
   "cell_type": "code",
   "execution_count": null,
   "id": "413dcd26-9a76-49da-a835-7d81ae226d01",
   "metadata": {},
   "outputs": [],
   "source": []
  }
 ],
 "metadata": {
  "kernelspec": {
   "display_name": "Python 3 (ipykernel)",
   "language": "python",
   "name": "python3"
  },
  "language_info": {
   "codemirror_mode": {
    "name": "ipython",
    "version": 3
   },
   "file_extension": ".py",
   "mimetype": "text/x-python",
   "name": "python",
   "nbconvert_exporter": "python",
   "pygments_lexer": "ipython3",
   "version": "3.9.12"
  }
 },
 "nbformat": 4,
 "nbformat_minor": 5
}
