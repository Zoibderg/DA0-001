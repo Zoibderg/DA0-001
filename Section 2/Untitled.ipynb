{
 "cells": [
  {
   "cell_type": "markdown",
   "id": "3fb007f8-604a-4618-a452-31ddf32a2c5b",
   "metadata": {},
   "source": [
    "# 2.1 - Explain data acquisition concepts."
   ]
  },
  {
   "cell_type": "markdown",
   "id": "3ce429c0-9eaa-49e9-a0b1-cef1503f9ee9",
   "metadata": {},
   "source": [
    "## Integration"
   ]
  },
  {
   "cell_type": "markdown",
   "id": "e968911e-d71b-4740-b27e-63b59d69a704",
   "metadata": {},
   "source": []
  },
  {
   "cell_type": "markdown",
   "id": "332f0144-33d5-4c13-b4d7-eb96825e98ba",
   "metadata": {},
   "source": []
  },
  {
   "cell_type": "markdown",
   "id": "17ce85b4-6760-438d-a5c1-f0d53a9852fe",
   "metadata": {},
   "source": []
  },
  {
   "cell_type": "markdown",
   "id": "632c77a4-bd92-4a8e-8bc7-a97bbbec9485",
   "metadata": {},
   "source": []
  }
 ],
 "metadata": {
  "kernelspec": {
   "display_name": "Python 3 (ipykernel)",
   "language": "python",
   "name": "python3"
  },
  "language_info": {
   "codemirror_mode": {
    "name": "ipython",
    "version": 3
   },
   "file_extension": ".py",
   "mimetype": "text/x-python",
   "name": "python",
   "nbconvert_exporter": "python",
   "pygments_lexer": "ipython3",
   "version": "3.9.12"
  }
 },
 "nbformat": 4,
 "nbformat_minor": 5
}
