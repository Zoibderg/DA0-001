{
 "cells": [
  {
   "cell_type": "markdown",
   "id": "49fc00e4-3472-4c4a-8fcc-7b0e8ee2e41e",
   "metadata": {},
   "source": [
    "# 4.1 - Given a scenario, translate business requirements to form a report."
   ]
  },
  {
   "cell_type": "markdown",
   "id": "48d4abde-fd33-46cc-af6d-3d346e3a3b43",
   "metadata": {},
   "source": [
    "## Business Requirement Categories\n",
    "\n",
    "**Functional Requirements** - These define how a product/service/solution should funciton from the end-users perspective. These involve the features and functions with which the end-user will interact with directly.\n",
    "\n",
    "Examples: \n",
    "- The system will create a daily sales report.\n",
    "- The daily sales report will be mailed to a distrbution list named \"sales-report-subscribers\".\n",
    "- The daily sales report will include a current monthly sales forecast as calculated by the getCurrentForecase service.\n",
    "\n",
    "**Operational Requirements** - These define operations that must be carried out in the backgroud to keep the product or process functioning ober a period of time.\n",
    "\n",
    "Examples:\n",
    "- The daily sales report shall load within 10 seconds.\n",
    "- The creation of daily sales report shall not interfere with other network functions\n",
    "- The daily sales report should use minimal memory. \n",
    "\n",
    "**Technical Requirements** - These define the technical issues that must be considered to seccessfully implement the process or create the product.\n",
    "\n",
    "**Transitional Requirements** - These are the steps needed to implement the new product or process smoothly."
   ]
  },
  {
   "cell_type": "markdown",
   "id": "928195e4-610c-4fa0-a3b5-29086880a79d",
   "metadata": {},
   "source": [
    "## Data Content"
   ]
  },
  {
   "cell_type": "markdown",
   "id": "386f0b96-c7dc-4eca-a3d6-eaa52dca66c9",
   "metadata": {},
   "source": []
  },
  {
   "cell_type": "markdown",
   "id": "f0627f89-87e6-4c04-9710-8bfec0d8af76",
   "metadata": {},
   "source": []
  },
  {
   "cell_type": "markdown",
   "id": "8eec4b46-428b-4b19-a539-289bf6aef0bd",
   "metadata": {},
   "source": [
    "## Filtering"
   ]
  },
  {
   "cell_type": "markdown",
   "id": "511e91e2-f244-402b-8afb-fb476c65b5a7",
   "metadata": {},
   "source": []
  },
  {
   "cell_type": "markdown",
   "id": "13fa776b-67b1-4bff-82bb-f5b8d965f015",
   "metadata": {},
   "source": []
  },
  {
   "cell_type": "markdown",
   "id": "1f90a5bf-58a9-4ab8-9b3a-dfa934494536",
   "metadata": {},
   "source": [
    "## Views"
   ]
  },
  {
   "cell_type": "markdown",
   "id": "6e2dea0c-2e6b-468f-a727-3f6af7d9add6",
   "metadata": {},
   "source": []
  },
  {
   "cell_type": "markdown",
   "id": "eea3b5c4-aa7a-4255-a3ad-dbe6c4afdf32",
   "metadata": {},
   "source": []
  },
  {
   "cell_type": "markdown",
   "id": "13bc5add-751d-4d3b-af20-b943b5549c10",
   "metadata": {},
   "source": [
    "## Data Range"
   ]
  },
  {
   "cell_type": "markdown",
   "id": "7cf7931f-8c98-4ee1-ba34-91a05fbdbb91",
   "metadata": {},
   "source": []
  },
  {
   "cell_type": "markdown",
   "id": "ae2cc3b0-f88c-4197-b3cc-c499f5ffc64f",
   "metadata": {},
   "source": []
  },
  {
   "cell_type": "markdown",
   "id": "58dd8fdb-0a16-4354-964a-e3bd88097454",
   "metadata": {},
   "source": [
    "## Frequency"
   ]
  },
  {
   "cell_type": "markdown",
   "id": "d8a24316-2a70-41a3-8121-26c2fbcda77d",
   "metadata": {},
   "source": []
  },
  {
   "cell_type": "markdown",
   "id": "0650dfc6-0dd4-4d14-857e-a1f40bc323fe",
   "metadata": {},
   "source": []
  },
  {
   "cell_type": "markdown",
   "id": "e1824d9d-626d-4eca-8e1f-972f427c4f54",
   "metadata": {},
   "source": [
    "## Audience\n",
    "\n",
    "- Distribution list"
   ]
  },
  {
   "cell_type": "markdown",
   "id": "b2836d73-3500-4942-8837-6d05903af45b",
   "metadata": {},
   "source": []
  },
  {
   "cell_type": "markdown",
   "id": "36ce209b-3282-4d26-be88-ac1f74b05eca",
   "metadata": {},
   "source": []
  }
 ],
 "metadata": {
  "kernelspec": {
   "display_name": "Python 3 (ipykernel)",
   "language": "python",
   "name": "python3"
  },
  "language_info": {
   "codemirror_mode": {
    "name": "ipython",
    "version": 3
   },
   "file_extension": ".py",
   "mimetype": "text/x-python",
   "name": "python",
   "nbconvert_exporter": "python",
   "pygments_lexer": "ipython3",
   "version": "3.9.12"
  }
 },
 "nbformat": 4,
 "nbformat_minor": 5
}
