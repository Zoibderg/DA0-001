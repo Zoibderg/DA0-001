{
 "cells": [
  {
   "cell_type": "markdown",
   "id": "3dcbed27-6470-454e-a368-769e87923716",
   "metadata": {},
   "source": [
    "# Objective 1.1 - Identify basic concepts of data schemas and dimensions."
   ]
  },
  {
   "cell_type": "markdown",
   "id": "10e76545-7041-4588-b9bb-0e9543dda052",
   "metadata": {},
   "source": [
    "## Databases"
   ]
  },
  {
   "cell_type": "markdown",
   "id": "95c1c4cc-04f5-49eb-bc90-657ab9af78d0",
   "metadata": {},
   "source": [
    "#### • Relational"
   ]
  },
  {
   "cell_type": "markdown",
   "id": "b866607a-f976-4196-ac2b-603813d62dab",
   "metadata": {},
   "source": [
    "> Relational databases are defined by the used of Primary and Foreign keys to create relationships (links) between tables. <br>\n",
    "\n",
    "| id  | value | \n",
    "| --- | ----- |\n",
    "| 01  | 100   |\n",
    "| 02  | 500   |\n",
    "| 03  | 700   |\n",
    "\n",
    "| tid (links to id) | name | address | phone |\n",
    "| --- | ---- | ------- | ----- |\n",
    "| 01 | Joe | 11 w road | 5555555555 |\n",
    "| 02 | Bob | 12 w street | 666666666|\n",
    "| 03 | Frank | 15 street | 1111111111|"
   ]
  },
  {
   "cell_type": "markdown",
   "id": "a3ba71eb-e1d2-4f5c-b54e-c76230998e49",
   "metadata": {},
   "source": [
    "This allows for very effecent and well structed data bases. From table one we can see that person `01` has a total value of `100`, if we wish to see who person `01` is we simply need to follow the key link to the next table, where in this instance we are provied with said persons' details. "
   ]
  },
  {
   "cell_type": "markdown",
   "id": "e1e286e4-9999-4513-a28c-993e0b39d54e",
   "metadata": {},
   "source": [
    "#### • Non-Relational"
   ]
  },
  {
   "cell_type": "markdown",
   "id": "db2f6437-c022-4417-93d1-5bec3428b4c5",
   "metadata": {},
   "source": [
    "> Non-Relational databases DO NOT use keys to pair tables. Instead all relevent information is stored in one table. A good way to think about this database is to look at the dictionary class.\n",
    "\n",
    "```Python\n",
    "1001: {\n",
    "'name': 'mark'\n",
    "'surname': 'franklin'\n",
    "'phone': 00-000-0000\n",
    "}\n",
    "```\n",
    "\n",
    "```Python\n",
    "1002: {\n",
    "'name': 'bob'\n",
    "'surname': 'franklin'\n",
    "'phone': 11-111-1111\n",
    "}\n",
    "```\n",
    "\n",
    "Above we make a new entry for each person and input their information directly into their table. Key / Value pairs are used to define this information. "
   ]
  },
  {
   "cell_type": "markdown",
   "id": "5034fc57-2958-44fd-8acc-a6c52aa3bd21",
   "metadata": {},
   "source": [
    "## Data Mart / Data Warehousing / Data Lake"
   ]
  },
  {
   "cell_type": "markdown",
   "id": "5aafb7c4-76c3-4b2f-a326-bb351e8f5633",
   "metadata": {
    "tags": []
   },
   "source": [
    "#### • Online transactional processing (OLTP)"
   ]
  },
  {
   "cell_type": "markdown",
   "id": "d355677d-f36c-47ff-bd6a-890ec047046b",
   "metadata": {},
   "source": [
    ">The processing of real time transactions that will affect the database. This needs to be quick and efficent.<br>\n",
    "\n",
    "<br>\n",
    "Think of the steps that are processed when making a card transaction.\n",
    "1. Check card balance\n",
    "2. Transfer money (transaction id OR #)\n",
    "3. Update stock\n",
    "4. Update total purchases\n",
    "\n",
    "This entire process happens in the blink of an eye and needs to almost reflect instantly in our database. That way for instance, stock is alway up to date and we don't end up selling a prodcut that we don't have."
   ]
  },
  {
   "cell_type": "markdown",
   "id": "bf84b1b3-7f9d-485e-90af-7fcee2338eeb",
   "metadata": {},
   "source": [
    "#### • Online analytical processing (OLAP)"
   ]
  },
  {
   "cell_type": "markdown",
   "id": "564bb092-97ec-4707-bf72-a14b43c5e45d",
   "metadata": {},
   "source": [
    "> In tandam with OLTP, OLAP happens later on in the process to analyze all data collected from OLTP. This will allow us to find insights about our data and create predictions, trends, etc. <br>\n",
    "\n",
    "Key point for OLAP is to get the correct insights for our data. It isn't important that its fast, while that does always help.<br>\n",
    "Consider the following examples:\n",
    "- How much of an item is sold in the current period?\n",
    "- Which items are most popluar?\n",
    "- Do we see certian trends when customers are buying a certian item?"
   ]
  },
  {
   "cell_type": "markdown",
   "id": "0141a81f-f210-4643-8707-ae4b932147d7",
   "metadata": {},
   "source": [
    "## Schema Concepts"
   ]
  },
  {
   "cell_type": "markdown",
   "id": "4cc1af73-0683-4943-a74f-d1be90604e5e",
   "metadata": {},
   "source": [
    "#### • Star"
   ]
  },
  {
   "cell_type": "markdown",
   "id": "c958c5fc-0578-40bb-8b45-1397f56a28c0",
   "metadata": {},
   "source": [
    "> In the star schema all relational tables are linked to one central table, creating a 'star'. The central table is often a numaric table, storing ID's that link to all other tables, where we can go to get more information about the ID in question.\n",
    "\n",
    "Consider the following tables:\n",
    "\n",
    "| Purchase ID | Product ID | Customer ID | Empolyee ID |\n",
    "| ----------- | ---------- | ----------- | ----------- |\n",
    "| 01 | 13 | 23 | 16 |\n",
    "| 02 | 140 | 23 | 20 |\n",
    "| 03 | 67 | 40 | 166 |\n",
    "\n",
    "| Product ID | Product Name | Product Price | Product CAT |\n",
    "| ---------- | ------------ | ------------- | ----------- |\n",
    "| 13 |  |  |  |\n",
    "| 140 |  |  |  |\n",
    "| 67 |  |  |  |\n",
    "\n",
    "| Customer ID | Customer Name | Customer City | Purchased Products |\n",
    "| ----------- | ------------- | ------------- | ------------------ |\n",
    "| 23 |  |  |  |\n",
    "| 23 |  |  |  |\n",
    "| 40 |  |  |  |\n",
    "\n",
    "| Employee ID | Empolyee Name | Employee City | Department |\n",
    "| ----------- | ------------- | ------------- | ---------- |\n",
    "| 16 |  |  |  |\n",
    "| 20 |  |  |  |\n",
    "| 166 |  |  |  |\n",
    "\n",
    "As we can see the top table (our central table) contains nothing by IDs for each transaction. From there out every ID links us to another table where we are provided with more information. It the spirit of the 'star' if we were to lay these tables out flat, our end result would resemable a star. "
   ]
  },
  {
   "cell_type": "markdown",
   "id": "55fc33b1-050a-4214-8b2d-356bbc586bad",
   "metadata": {},
   "source": [
    "#### • Snowflake"
   ]
  },
  {
   "cell_type": "markdown",
   "id": "d36015d7-dcd9-4252-bc1c-92eae71660ac",
   "metadata": {},
   "source": [
    "> The base of our snowflake schema is the star schema! The major differece between these schemas is that the snowflake contains multiple dimensions. So now, instead of only relating tables to just once central table, tables are related to any other tables in the schema. As we would guess this begins to look like a snowflake as we now have multiple nodes and branches.\n",
    "\n",
    "Lets refer back to our star schema tables:\n",
    "\n",
    "| Purchase ID | Product ID | Customer ID | Empolyee ID |\n",
    "| ----------- | ---------- | ----------- | ----------- |\n",
    "| 01 | 13 | 23 | 16 |\n",
    "| 02 | 140 | 23 | 20 |\n",
    "| 03 | 67 | 40 | 166 |\n",
    "\n",
    "| Product ID | Product Name | Product Price | Product CAT ID |\n",
    "| ---------- | ------------ | ------------- | ----------- |\n",
    "| 13 |  |  | 01 |\n",
    "| 140 |  |  | 02 |\n",
    "| 67 |  |  | 03 |\n",
    "\n",
    "| Customer ID | Customer Name | Customer City | Purchased Products |\n",
    "| ----------- | ------------- | ------------- | ------------------ |\n",
    "| 23 |  |  |  |\n",
    "| 23 |  |  |  |\n",
    "| 40 |  |  |  |\n",
    "\n",
    "| Employee ID | Empolyee Name | Employee City | Department |\n",
    "| ----------- | ------------- | ------------- | ---------- |\n",
    "| 16 |  |  |  |\n",
    "| 20 |  |  |  |\n",
    "| 166 |  |  |  |\n",
    "\n",
    "In the above tables I have added in IDs for our product catagories, in a snowflake schema, we can now link another table to our product ID table providing us with more information about said catagory. <br>\n",
    "<br>\n",
    "Consider the following table:\n",
    "\n",
    "| Catagory ID | Product List |\n",
    "| ----------- | ------------ |\n",
    "| 01 | list of items here... |\n",
    "| 02 |  |\n",
    "| 03 |  |\n",
    "\n",
    "So now as we can see, we have a linked relation back to our catatory IDs, so if we wanted for instance to find every item that is in the same catagory as an item we just sold, all we need to do is look at the relation. Take note that the Catagory ID table is not linked to our central ID table."
   ]
  }
 ],
 "metadata": {
  "kernelspec": {
   "display_name": "Python 3 (ipykernel)",
   "language": "python",
   "name": "python3"
  },
  "language_info": {
   "codemirror_mode": {
    "name": "ipython",
    "version": 3
   },
   "file_extension": ".py",
   "mimetype": "text/x-python",
   "name": "python",
   "nbconvert_exporter": "python",
   "pygments_lexer": "ipython3",
   "version": "3.9.12"
  }
 },
 "nbformat": 4,
 "nbformat_minor": 5
}
