{
 "cells": [
  {
   "cell_type": "markdown",
   "id": "3ef257de-9317-4ae9-96fa-e2d3b6d34c29",
   "metadata": {},
   "source": [
    "# Objective 1.3 - Compare and contrast common data structures and file formats."
   ]
  },
  {
   "cell_type": "markdown",
   "id": "b356bd72-613b-4c2c-b329-4d0a4a022551",
   "metadata": {},
   "source": [
    "## Data File Formats"
   ]
  },
  {
   "cell_type": "markdown",
   "id": "8659a8b0-0b73-437f-b772-424167fde6fd",
   "metadata": {},
   "source": [
    "### Text / Flat Files (eg. CSV)"
   ]
  },
  {
   "cell_type": "markdown",
   "id": "e4f0c711-bccc-4c2a-8c2b-9f958bcc5726",
   "metadata": {},
   "source": [
    "A file containing only text, that we can process with certian rules (such as delimiter) to define our data. The first line of this file will be the 'header' of the file and contains our colomn names."
   ]
  },
  {
   "cell_type": "markdown",
   "id": "05e6653a-78de-4cf9-89b7-6203bc990526",
   "metadata": {
    "tags": []
   },
   "source": [
    "#### Tab Delimited"
   ]
  },
  {
   "cell_type": "markdown",
   "id": "da13e9ef-913f-49c9-b5a3-e05026dfb2a5",
   "metadata": {},
   "source": [
    "A text file where values are seperated by tabs (4 spaces)."
   ]
  },
  {
   "cell_type": "markdown",
   "id": "c7a4a4f1-b68c-4f3f-89d3-f8e004ae4413",
   "metadata": {},
   "source": [
    "#### Tab Delimited CSV (Comma Seperated Values) Format Example\n",
    "\n",
    "```CSV\n",
    "ID    Name    Surname    GPA\n",
    "01    Mike    Jackson    94\n",
    "02    Linda   Peters     95\n",
    "\n",
    "```"
   ]
  },
  {
   "cell_type": "markdown",
   "id": "5294fcdb-1761-4c0c-b8c0-5091f4e903f0",
   "metadata": {
    "tags": []
   },
   "source": [
    "#### Comma Delimited "
   ]
  },
  {
   "cell_type": "markdown",
   "id": "335127f8-ff1d-4c76-97c8-ac37ef729e5f",
   "metadata": {},
   "source": [
    "A text file where values are seperated by commas."
   ]
  },
  {
   "cell_type": "markdown",
   "id": "0ecfb89f-fa40-42b7-9837-099a7f7b1914",
   "metadata": {},
   "source": [
    "#### CSV Format Example\n",
    "\n",
    "```CSV\n",
    "ID,Name,Surname,GPA\n",
    "01,Mike,Jackson,94\n",
    "02,Linda,Peters,95\n",
    "\n",
    "```"
   ]
  },
  {
   "cell_type": "markdown",
   "id": "fe72f0e9-3cdc-4674-a557-faa09bf6bd98",
   "metadata": {},
   "source": [
    "Keep in mind that these are simply the most common used dilimiters for flat files. In theroy you could use any dilimiter that you want, as long as it is properly "
   ]
  },
  {
   "cell_type": "markdown",
   "id": "bb2b52c4-d6dd-4181-8c1b-0d5cc1f44b94",
   "metadata": {},
   "source": [
    "### JavaScript Object Notation (JSON)"
   ]
  },
  {
   "cell_type": "markdown",
   "id": "a1cb774c-4f22-4daa-b8e6-eeb82806ad61",
   "metadata": {},
   "source": [
    "#### A few JSON file rules:\n",
    "\n",
    "- Needs open and closing curly brackes at start and end of file. \n",
    "- Each object needs to have a unique key.\n",
    "    - Often written as a string value in quotes (\"\")\n",
    "- After object key JSON file structre is a lot like a dictonary.\n",
    "    - Inside object store key value pairs (often as string value in quotes).\n",
    "- Each object and key value pair is seperated by commas. "
   ]
  },
  {
   "cell_type": "markdown",
   "id": "3191a84a-79c4-4f5c-a014-df474de03bff",
   "metadata": {},
   "source": [
    "#### JSON Format Example\n",
    "\n",
    "```JSON\n",
    "{\n",
    "    \"1\": {\n",
    "        \"Name\": \"Mike\",\n",
    "        \"Surname\": \"Jackson\",\n",
    "        \"GPA\": 94\n",
    "    },\n",
    "    \n",
    "    \"2\": {\n",
    "        \"Name\": \"Linda\",\n",
    "        \"Surname\": \"Peters\",\n",
    "        \"GPA\": 95\n",
    "    }\n",
    "}\n",
    "```"
   ]
  },
  {
   "cell_type": "markdown",
   "id": "f81d723a-2067-49b0-bcc5-1fb1860fc023",
   "metadata": {},
   "source": [
    "Retriving values from a JSON file is also a lot like retriveing them from a Python dictionary!<br>\n",
    "Say that the above JSON file represents students and is defined as so, if we whished to know Mike's surname, we would make the following call;\n",
    "```\n",
    "students[\"1\"][\"Surname\"]\n",
    "```\n",
    "\n",
    "As in a python dictionary, this calls to our JSON file 'students', we then call to object one (`[\"1\"]`) and then call to the Surname key (`[\"Surname\"]`), this would provied us with the value stored in that key; `\"Jackson\"`."
   ]
  },
  {
   "cell_type": "markdown",
   "id": "658d3922-5c68-429e-aca1-130549b407de",
   "metadata": {},
   "source": [
    "### Extensable Markup Language (XML)"
   ]
  },
  {
   "cell_type": "markdown",
   "id": "903d0a55-e524-4418-af5f-8b4c515bf850",
   "metadata": {},
   "source": [
    "- Close to JSON format, instead of keys, we use tags.\n",
    "- XML does not usually require quotes for strings, so unless our software ecplicitly has us use them, we should not.\n",
    "- Allows us to define our tags in whatever way we choose eg - `<student>` and `<id>`."
   ]
  },
  {
   "cell_type": "markdown",
   "id": "5f94948a-89d8-4407-b52c-316f6dbf9c0a",
   "metadata": {},
   "source": [
    "#### XML Format Example\n",
    "\n",
    "```XML\n",
    "<student>\n",
    "    <id>1</id>\n",
    "    <name>Mike</name>\n",
    "    <surname>Jackson</surname>\n",
    "    <gpa>94</gpa>\n",
    "</student>\n",
    "\n",
    "<student>\n",
    "    <id>2</id>\n",
    "    <name>Linda</name>\n",
    "    <surname>Peters</surname>\n",
    "    <gpa>95</gpa>\n",
    "</student>\n",
    "```"
   ]
  },
  {
   "cell_type": "markdown",
   "id": "4280cc19-ef4d-4770-9b4b-94a9ef38e092",
   "metadata": {},
   "source": [
    "### Hypertext Markup Language (HTML)"
   ]
  },
  {
   "cell_type": "markdown",
   "id": "9ee1319a-75fe-43a7-aae8-868f41deeda6",
   "metadata": {},
   "source": [
    "Remeber for the scope of this course, we only need to undersand this file structre. There is much more that goes into HTML and the can be explored later on. \n",
    "\n",
    "- Uses tags, just like XML, but has a mandatory structure.\n",
    "    - Mandatory `<!DOCTYPE html>` tag\n",
    "    - Mandatory `<html>` tag at head and foot of file\n",
    "    - Mandatory `<head>` tag at head and foot of `<html>` tag.\n",
    "        - contains meta information about web page, css styes, etc.\n",
    "        - contains `<title>` tag (the only real basic tag in the head section)\n",
    "    - Mandatory `<body>` tag after `<head>`\n",
    "        - Contains the acutal content of the web page\n",
    "        - Has many many different tags!\n",
    "- Ofen used for webpages. (the bones/framework)"
   ]
  },
  {
   "cell_type": "markdown",
   "id": "4d08b5bd-c623-43bf-8055-7fd46bc35e2d",
   "metadata": {},
   "source": [
    "#### HTML Format Example\n",
    "\n",
    "```HTML\n",
    "<!DOCTYPE html>\n",
    "<html>\n",
    "    <head>\n",
    "        <title>Google</title>\n",
    "    </head>\n",
    "    <body>\n",
    "        <p>Hello World! ! !</p>\n",
    "        <h1>Biggest Heading</h1>\n",
    "        <h6>Smallest Heading</h6>\n",
    "        <a>www.link.com</a>\n",
    "    </body>\n",
    "</html>\n",
    "```"
   ]
  },
  {
   "cell_type": "code",
   "execution_count": null,
   "id": "1d34c165-3c59-48a8-9433-4e23f037a40d",
   "metadata": {},
   "outputs": [],
   "source": []
  }
 ],
 "metadata": {
  "kernelspec": {
   "display_name": "Python 3 (ipykernel)",
   "language": "python",
   "name": "python3"
  },
  "language_info": {
   "codemirror_mode": {
    "name": "ipython",
    "version": 3
   },
   "file_extension": ".py",
   "mimetype": "text/x-python",
   "name": "python",
   "nbconvert_exporter": "python",
   "pygments_lexer": "ipython3",
   "version": "3.9.12"
  }
 },
 "nbformat": 4,
 "nbformat_minor": 5
}
